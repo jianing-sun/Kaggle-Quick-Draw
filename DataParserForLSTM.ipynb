{
 "cells": [
  {
   "cell_type": "code",
   "execution_count": 87,
   "metadata": {},
   "outputs": [],
   "source": [
    "import os\n",
    "import numpy as np \n",
    "import matplotlib.pyplot as plt\n",
    "\n",
    "%matplotlib inline"
   ]
  },
  {
   "cell_type": "code",
   "execution_count": 88,
   "metadata": {},
   "outputs": [],
   "source": [
    "from ast import literal_eval\n",
    "from glob import glob\n",
    "import pandas as pd"
   ]
  },
  {
   "cell_type": "code",
   "execution_count": 104,
   "metadata": {},
   "outputs": [],
   "source": [
    "from keras.preprocessing.sequence import pad_sequences\n",
    "from sklearn.preprocessing import LabelEncoder\n",
    "from keras.utils.np_utils import to_categorical\n",
    "\n",
    "\n",
    "def preprocessRawStrokes(raw_strokes):\n",
    "    \"\"\" process raw input strokes from .csv file.\n",
    "    Stack all stroke vector to a Nx3 array. c_stroke[:,2] indicates if this is a start of a new stroke vector\n",
    "    with 1 or 2. Then make all strokes the same length\n",
    "    \"\"\"\n",
    "    stroke_vec = literal_eval(raw_strokes) # read stroke string vector to list\n",
    "    \n",
    "    # unwrap the list\n",
    "    in_strokes = [(xi, yi, i) for i, (x, y) in enumerate(stroke_vec) for xi, yi in zip(x,y)]    \n",
    "    c_strokes = np.stack(in_strokes)\n",
    "\n",
    "    # replace stroke id with 1 for continue, 2 for new\n",
    "    c_strokes[:,2] = [1] + np.diff(c_strokes[:,2]).tolist()\n",
    "    c_strokes[:,2] += 1 # since 0 is no stroke\n",
    "    \n",
    "    # make all strokes same length by padding the strokes with zero after\n",
    "    return pad_sequences(c_strokes.swapaxes(0, 1), \n",
    "                         maxlen=196, \n",
    "                         padding='post').swapaxes(0, 1)\n",
    "\n",
    "\n",
    "def read_batch(paths, samples=5, \n",
    "               start_row=0,\n",
    "               n_rows=1000):\n",
    "    \"\"\"\n",
    "    load and process the csv files\n",
    "    this function is horribly inefficient but simple\n",
    "    \"\"\"\n",
    "    out_df_list = []\n",
    "    for path in paths:\n",
    "        c_df = pd.read_csv(path, nrows=n_rows, skiprows=start_row)\n",
    "        c_df.columns=['countrycode', 'drawing', 'key_id', 'recognized', 'timestamp', 'word']\n",
    "        out_df_list += [c_df.sample(samples)[['drawing', 'word']]]\n",
    "    full_df = pd.concat(out_df_list)\n",
    "    full_df['drawing'] = full_df['drawing'].map(preprocessRawStrokes)\n",
    "#     full_df = full_df.sample(frac=1)  # shuffle data\n",
    "    print(full_df.sample(frac=1))\n",
    "    return full_df.sample(frac=1)\n",
    "\n",
    "\n",
    "def read_full_csv(paths, train_split=0.75, valid_split=0.15, test_split=0.15):\n",
    "    \n",
    "    train_out_df_list = []\n",
    "    valid_out_df_list = []\n",
    "    test_out_df_list = []\n",
    "    \n",
    "    for path in paths:\n",
    "        df = pd.read_csv(path)\n",
    "        print(len(df))\n",
    "        valid_df, test_df, train_df = np.split(df, [int(valid_split*len(df)), int((valid_split+test_split)*len(df))])\n",
    "        print('len(train_df), len(valid_df), len(test_df)', len(train_df), len(valid_df), len(test_df))\n",
    "        \n",
    "        train_df.columns = ['countrycode', 'drawing', 'key_id', 'recognized', 'timestamp', 'word']\n",
    "        valid_df.columns = ['countrycode', 'drawing', 'key_id', 'recognized', 'timestamp', 'word']\n",
    "        test_df.columns = ['countrycode', 'drawing', 'key_id', 'recognized', 'timestamp', 'word']\n",
    "\n",
    "        train_out_df_list += [train_df[['drawing', 'word']]]\n",
    "        valid_out_df_list += [valid_df[['drawing', 'word']]]\n",
    "        test_out_df_list += [test_df[['drawing', 'word']]]\n",
    "        \n",
    "    train_full_df = pd.concat(train_out_df_list)\n",
    "    valid_full_df = pd.concat(valid_out_df_list)\n",
    "    test_full_df = pd.concat(test_out_df_list)\n",
    "    \n",
    "    train_full_df['drawing'] = train_full_df['drawing'.map(preprocessRawStrokes)]\n",
    "    valid_full_df['drawing'] = valid_full_df['drawing'.map(preprocessRawStrokes)]\n",
    "    test_full_df['drawing'] = test_full_df['drawing'.map(preprocessRawStrokes)]\n",
    "    \n",
    "    return train_full_df.sample(frac=1), valid_full_df.sample(frac=1), test_full_df.sample(frac=1)"
   ]
  },
  {
   "cell_type": "code",
   "execution_count": 100,
   "metadata": {
    "scrolled": false
   },
   "outputs": [],
   "source": [
    "def generateDf(n_train, n_valid, n_test, n_strokes, path, debug=True):\n",
    "    \"\"\" for each .csv file randomly sample 750 training instances for each csv file, \n",
    "    75 valid instances, and 50 test instances \"\"\"\n",
    "    \n",
    "    if debug:\n",
    "        train_args = dict(samples=n_train, start_row=0, n_rows=int(n_train*1.5), paths=path)\n",
    "        valid_args = dict(samples=n_valid, start_row=train_args['n_rows']+1, n_rows=n_valid+25, paths=path)\n",
    "        test_args = dict(samples=n_test, start_row=valid_args['n_rows']+train_args['n_rows']+1, \n",
    "                         n_rows=n_test+25, paths=path)\n",
    "        train_df = read_batch(**train_args)\n",
    "        valid_df = read_batch(**valid_args)\n",
    "        test_df = read_batch(**test_args)\n",
    "    else:\n",
    "        train_df, valid_df, test_df = read_full_csv(path)\n",
    "\n",
    "    word_encoder = LabelEncoder()\n",
    "    word_encoder.fit(train_df['word'])\n",
    "\n",
    "#     print('words', len(word_encoder.classes_), '=>', ', '.join([x for x in word_encoder.classes_]))\n",
    "    return train_df, valid_df, test_df, word_encoder"
   ]
  },
  {
   "cell_type": "code",
   "execution_count": 101,
   "metadata": {},
   "outputs": [],
   "source": [
    "def getXYfromDf(df, word_encoder):\n",
    "    \"\"\" Generate feature x and label y for input dataframe \n",
    "    \"\"\"\n",
    "    x = np.stack(df['drawing'], axis=0)\n",
    "    y = to_categorical(word_encoder.transform(df['word'].values))\n",
    "    return x, y"
   ]
  },
  {
   "cell_type": "code",
   "execution_count": 102,
   "metadata": {},
   "outputs": [],
   "source": [
    "def demo():\n",
    "    \"\"\" demonstarte how a pic made up of stroke vectors\n",
    "    Each stroke_idx represents a stroke\n",
    "    \"\"\"\n",
    "    base_dir = '/Volumes/JS/QuickDraw'\n",
    "    test_path = os.path.join(base_dir, 'test_simplified.csv')\n",
    "    all_train_paths = glob(os.path.join(base_dir, 'train_simplified', '*.csv'))\n",
    "#     cols = ['countrycode', 'drawing', 'key_id', 'recognized', 'timestamp', 'word']\n",
    "    train_df, valid_df, test_df, word_encoder = generateDf(n_train=75, n_valid=7, n_test=5, \n",
    "                                                       n_strokes=196, path=all_train_paths, debug=False)\n",
    "    x_train, y_train = getXYfromDf(train_df, word_encoder)\n",
    "    x_valid, y_valid = getXYfromDf(valid_df, word_encoder)\n",
    "    x_test, y_test = getXYfromDf(test_df, word_encoder)\n",
    "\n",
    "    fig, m_axs = plt.subplots(3, 3, figsize=(16, 16))\n",
    "    rand_idxs = np.random.choice(range(x_train.shape[0]), size = 9)\n",
    "\n",
    "    for c_id, c_ax in zip(rand_idxs, m_axs.flatten()):\n",
    "        test = x_train[c_id]\n",
    "        test = test[test[:,2] > 0, :]  # when the stroke index=0 means it's invalid generate by padding 0\n",
    "        stroke_idx = np.cumsum(test[:,2] - 1)\n",
    "        for i in np.unique(stroke_idx):   # visualize each stroke vector\n",
    "            c_ax.plot(test[stroke_idx==i,0], np.max(test[:,1]) - test[stroke_idx==i,1], '.-')\n",
    "#         c_ax.axis('off')   # display axis or not\n",
    "        c_ax.set_title(word_encoder.classes_[np.argmax(y_train[c_id])])"
   ]
  },
  {
   "cell_type": "code",
   "execution_count": 103,
   "metadata": {
    "scrolled": false
   },
   "outputs": [
    {
     "name": "stdout",
     "output_type": "stream",
     "text": [
      "122434\n",
      "len(train_df), len(valid_df), len(test_df) 85704 18365 18365\n",
      "153652\n",
      "len(train_df), len(valid_df), len(test_df) 107557 23047 23048\n",
      "129888\n",
      "len(train_df), len(valid_df), len(test_df) 90922 19483 19483\n",
      "125064\n",
      "len(train_df), len(valid_df), len(test_df) 87545 18759 18760\n",
      "124828\n",
      "len(train_df), len(valid_df), len(test_df) 87380 18724 18724\n",
      "131037\n",
      "len(train_df), len(valid_df), len(test_df) 91726 19655 19656\n",
      "143271\n",
      "len(train_df), len(valid_df), len(test_df) 100290 21490 21491\n"
     ]
    },
    {
     "name": "stderr",
     "output_type": "stream",
     "text": [
      "\n",
      "KeyboardInterrupt\n",
      "\n"
     ]
    }
   ],
   "source": [
    "demo()"
   ]
  },
  {
   "cell_type": "code",
   "execution_count": null,
   "metadata": {},
   "outputs": [],
   "source": []
  }
 ],
 "metadata": {
  "kernelspec": {
   "display_name": "Python 3",
   "language": "python",
   "name": "python3"
  },
  "language_info": {
   "codemirror_mode": {
    "name": "ipython",
    "version": 3
   },
   "file_extension": ".py",
   "mimetype": "text/x-python",
   "name": "python",
   "nbconvert_exporter": "python",
   "pygments_lexer": "ipython3",
   "version": "3.6.4"
  }
 },
 "nbformat": 4,
 "nbformat_minor": 2
}
