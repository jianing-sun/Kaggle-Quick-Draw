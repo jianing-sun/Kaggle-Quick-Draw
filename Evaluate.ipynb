{
 "cells": [
  {
   "cell_type": "code",
   "execution_count": 13,
   "metadata": {},
   "outputs": [],
   "source": [
    "import os\n",
    "from glob import glob\n",
    "import nbimporter\n",
    "import numpy as np\n",
    "from WaveNetClassifier import WaveNet, WaveNetParams\n",
    "from DataParser import getXYfromDf, generateDf"
   ]
  },
  {
   "cell_type": "code",
   "execution_count": 14,
   "metadata": {},
   "outputs": [],
   "source": [
    "def evaluateTestSet(net, weight_path):\n",
    "    if net == 'wavent':\n",
    "        wavenet_params = WaveNetParams()\n",
    "        model = WaveNet(wavenet_params)\n",
    "    model = model.load_weights(weight_path)\n",
    "    result = model.evaluate(x_test, y_test, batch_size=2048)\n",
    "    print('Accuracy: %2.1f%%, Top 3 Accuracy %2.1f%%' % (100*lstm_results[1], 100*lstm_results[2]))"
   ]
  },
  {
   "cell_type": "code",
   "execution_count": 15,
   "metadata": {},
   "outputs": [],
   "source": [
    "def sklearnReport(model, weight_path):\n",
    "    model = model.load_weights(weight_path)\n",
    "    test_cat = np.argmax(y_test, 1)\n",
    "    pred_y = model.predict(x_test, batch_size = 4096)\n",
    "    pred_cat = np.argmax(pred_y, 1)\n",
    "    plt.matshow(confusion_matrix(test_cat, pred_cat))\n",
    "    print(classification_report(test_cat, pred_cat, \n",
    "                            target_names = [x for x in word_encoder.classes_]))"
   ]
  },
  {
   "cell_type": "code",
   "execution_count": 16,
   "metadata": {},
   "outputs": [],
   "source": [
    "base_dir = '/Volumes/JS/QuickDraw'\n",
    "test_path = os.path.join(base_dir, '/test_simplified.csv')\n",
    "all_train_paths = glob(os.path.join(base_dir, 'train_simplified', '*.csv'))\n",
    "cols = ['countrycode', 'drawing', 'key_id', 'recognized', 'timestamp', 'word']\n",
    "\n",
    "train_df, valid_df, test_df, word_encoder = generateDf(n_train=75, n_valid=7, n_test=5, \n",
    "                                                       n_strokes=196, path=all_train_paths)\n",
    "# x_train, y_train = getXYfromDf(train_df, word_encoder)\n",
    "# x_valid, y_valid = getXYfromDf(valid_df, word_encoder)\n",
    "x_test, y_test = getXYfromDf(test_df, word_encoder)"
   ]
  },
  {
   "cell_type": "code",
   "execution_count": null,
   "metadata": {},
   "outputs": [],
   "source": []
  }
 ],
 "metadata": {
  "kernelspec": {
   "display_name": "Python 3",
   "language": "python",
   "name": "python3"
  },
  "language_info": {
   "codemirror_mode": {
    "name": "ipython",
    "version": 3
   },
   "file_extension": ".py",
   "mimetype": "text/x-python",
   "name": "python",
   "nbconvert_exporter": "python",
   "pygments_lexer": "ipython3",
   "version": "3.6.4"
  }
 },
 "nbformat": 4,
 "nbformat_minor": 2
}
