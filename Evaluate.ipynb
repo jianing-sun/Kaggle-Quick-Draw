{
 "cells": [
  {
   "cell_type": "code",
   "execution_count": 28,
   "metadata": {},
   "outputs": [],
   "source": [
    "import os\n",
    "from glob import glob\n",
    "import nbimporter\n",
    "import pandas as pd\n",
    "import numpy as np\n",
    "\n",
    "from ResNet34 import ResnetBuilder\n",
    "from DataParserForCNN import read_class, read_full_df, null_augment, drawing_to_image\n",
    "from keras import backend as K\n",
    "from DataParserForCNN import ImageBatchGenerator\n",
    "from keras.utils import Sequence\n",
    "from sklearn.metrics import confusion_matrix, classification_report\n",
    "\n",
    "import matplotlib.pyplot as plt\n",
    "%matplotlib inline"
   ]
  },
  {
   "cell_type": "code",
   "execution_count": 2,
   "metadata": {},
   "outputs": [],
   "source": [
    "def get_model(net, weight_path):\n",
    "    \n",
    "    if net == 'wavenet':\n",
    "        wavenet_params = WaveNetParams()\n",
    "        model = WaveNet(wavenet_params)\n",
    "        \n",
    "    elif net == 'resnet34':\n",
    "        K.set_image_dim_ordering('tf')\n",
    "        model = ResnetBuilder.build_resnet_34((3, 64, 64), 340)\n",
    "    \n",
    "    elif net == 'resnet50':\n",
    "        K.set_image_dim_ordering('tf')\n",
    "        model = ResnetBuilder.build_resnet_50((3, 64, 64), 340)\n",
    "        \n",
    "    model.load_weights(weight_path)\n",
    "    \n",
    "    return model"
   ]
  },
  {
   "cell_type": "code",
   "execution_count": 37,
   "metadata": {
    "collapsed": true
   },
   "outputs": [],
   "source": [
    "def evaluateTestSet(net, weight_path):\n",
    "    result = model.evaluate(x_test, y_test, batch_size=2048)\n",
    "    print('Accuracy: %2.1f%%, Top 3 Accuracy %2.1f%%' % (100*result[1], 100*result[2]))"
   ]
  },
  {
   "cell_type": "code",
   "execution_count": 11,
   "metadata": {},
   "outputs": [],
   "source": [
    "model = get_model('resnet50', './model/qd_rn50_more38500_lb923.h5')"
   ]
  },
  {
   "cell_type": "code",
   "execution_count": 9,
   "metadata": {},
   "outputs": [],
   "source": [
    "# base_path = 'C:/Users/IML/Desktop/QuickDrawDataset/'\n",
    "base_path = '/Volumes/JS/QuickDraw/'\n",
    "class_array = read_class()"
   ]
  },
  {
   "cell_type": "code",
   "execution_count": 10,
   "metadata": {},
   "outputs": [
    {
     "name": "stdout",
     "output_type": "stream",
     "text": [
      "\t load df   :  339/340                   zigzag  10 min 20 sec\n",
      "\n",
      "\t load valid_set split:  339/340                   zigzag  15 min 00 sec"
     ]
    }
   ],
   "source": [
    "full_df, train_id, valid_id = read_full_df(base_path, class_array)"
   ]
  },
  {
   "cell_type": "code",
   "execution_count": 12,
   "metadata": {},
   "outputs": [],
   "source": [
    "def normalize(image):\n",
    "    return image / 255."
   ]
  },
  {
   "cell_type": "code",
   "execution_count": 29,
   "metadata": {},
   "outputs": [
    {
     "name": "stdout",
     "output_type": "stream",
     "text": [
      "\n",
      "\n"
     ]
    }
   ],
   "source": [
    "valid_batch = ImageBatchGenerator(class_array=class_array,\n",
    "                                  full_df=full_df,\n",
    "                                  datasplit_id=valid_id,\n",
    "                                  split='valid_set',\n",
    "                                  batch_size=128, \n",
    "                                  augment=null_augment, \n",
    "                                  mode='simplified', \n",
    "                                  norm=normalize,\n",
    "                                  shuffle=False)"
   ]
  },
  {
   "cell_type": "code",
   "execution_count": 10,
   "metadata": {},
   "outputs": [
    {
     "data": {
      "text/plain": [
       "2"
      ]
     },
     "execution_count": 10,
     "metadata": {},
     "output_type": "execute_result"
    }
   ],
   "source": [
    "len(valid_batch[0])"
   ]
  },
  {
   "cell_type": "code",
   "execution_count": 68,
   "metadata": {},
   "outputs": [],
   "source": [
    "from keras.optimizers import Adam\n",
    "from keras.metrics import top_k_categorical_accuracy\n",
    "\n",
    "\n",
    "def top_3_accuracy(y_true, y_pred): \n",
    "    return top_k_categorical_accuracy(y_true, y_pred, 3)\n",
    "\n",
    "\n",
    "def map3(y_true, y_pred):\n",
    "    return (top_k_categorical_accuracy(y_true, y_pred, 3) + top_k_categorical_accuracy(y_true, y_pred, 2)\n",
    "            + top_k_categorical_accuracy(y_true, y_pred, 1)) / 3\n",
    "\n",
    "\n",
    "def ap_3(y_true, y_pred):\n",
    "    score = 0.0\n",
    "    num_tp = 0.0\n",
    "    \n",
    "    if len(y_pred) > 3:\n",
    "        y_pred = y_pred[:3]\n",
    "\n",
    "    for i, p in enumerate(y_pred):\n",
    "        if p in y_true and p not in y_pred[:i]:\n",
    "            num_tp += 1.0\n",
    "            score += num_tp / (i+1.0)\n",
    "\n",
    "    if not y_truth:\n",
    "        return 0.0\n",
    "    \n",
    "    return score / min(len(y_true), 3)\n",
    "\n",
    "\n",
    "def map_3(y_true, y_pred):\n",
    "    \"\"\" map average precision with maximum 3 predicted elements \"\"\"\n",
    "    return np.mean([ap_3(a, p) for a, p in zip(y_true, y_pred)])\n",
    "\n",
    "\n",
    "optimizer = Adam(lr=1e-4, beta_1=0.9, beta_2=0.999, epsilon=1e-08, decay=0.0)\n",
    "model.compile(loss='categorical_crossentropy', \n",
    "              metrics = ['accuracy', top_3_accuracy, map3],\n",
    "              optimizer=optimizer)"
   ]
  },
  {
   "cell_type": "code",
   "execution_count": 69,
   "metadata": {},
   "outputs": [
    {
     "name": "stdout",
     "output_type": "stream",
     "text": [
      "213/213 [==============================] - 449s 2s/step\n"
     ]
    }
   ],
   "source": [
    "result = model.evaluate_generator(valid_batch, verbose=1)"
   ]
  },
  {
   "cell_type": "code",
   "execution_count": 70,
   "metadata": {},
   "outputs": [
    {
     "name": "stdout",
     "output_type": "stream",
     "text": [
      "Accuracy: 81.9%, Top 3 93.6%, MAP@3 88.8%\n"
     ]
    }
   ],
   "source": [
    "print('Accuracy: %2.1f%%, Top 3 %2.1f%%, MAP@3 %2.1f%%' % (100*result[1], 100*result[2], 100*result[3]))"
   ]
  },
  {
   "cell_type": "code",
   "execution_count": 34,
   "metadata": {
    "collapsed": true
   },
   "outputs": [],
   "source": [
    "def read_test_df(): \n",
    "    test_df = pd.read_csv('./test_%s.csv'%('simplified'))\n",
    "#     test_id = np.arange(0, len(test_df))\n",
    "    test_id = test_df['key_id'].values.astype(np.int64)\n",
    "\n",
    "    return test_df, test_id"
   ]
  },
  {
   "cell_type": "code",
   "execution_count": 19,
   "metadata": {},
   "outputs": [],
   "source": [
    "def get_valid_true():\n",
    "    print(len(valid_id))\n",
    "    valid_y = np.zeros((len(valid_id), 340), dtype='uint32')\n",
    "    instance_count = 0\n",
    "    for instance in valid_id:\n",
    "        label, drawing_id, key_id = instance\n",
    "        valid_y[instance_count, int(label)] = 1\n",
    "        instance_count += 1\n",
    "    return valid_y"
   ]
  },
  {
   "cell_type": "code",
   "execution_count": 20,
   "metadata": {},
   "outputs": [
    {
     "ename": "NameError",
     "evalue": "name 'read_test_df' is not defined",
     "output_type": "error",
     "traceback": [
      "\u001b[0;31m---------------------------------------------------------------------------\u001b[0m",
      "\u001b[0;31mNameError\u001b[0m                                 Traceback (most recent call last)",
      "\u001b[0;32m<ipython-input-20-2a5360e7efc3>\u001b[0m in \u001b[0;36m<module>\u001b[0;34m()\u001b[0m\n\u001b[0;32m----> 1\u001b[0;31m \u001b[0mtest_df\u001b[0m\u001b[0;34m,\u001b[0m \u001b[0mtest_id\u001b[0m \u001b[0;34m=\u001b[0m \u001b[0mread_test_df\u001b[0m\u001b[0;34m(\u001b[0m\u001b[0;34m)\u001b[0m\u001b[0;34m\u001b[0m\u001b[0m\n\u001b[0m",
      "\u001b[0;31mNameError\u001b[0m: name 'read_test_df' is not defined"
     ]
    }
   ],
   "source": [
    "test_df, test_id = read_test_df()"
   ]
  },
  {
   "cell_type": "code",
   "execution_count": 26,
   "metadata": {},
   "outputs": [
    {
     "name": "stdout",
     "output_type": "stream",
     "text": [
      "27200\n",
      "[0 1 0 0 0 0 0 0 0 0 0 0 0 0 0 0 0 0 0 0 0 0 0 0 0 0 0 0 0 0 0 0 0 0 0 0 0\n",
      " 0 0 0 0 0 0 0 0 0 0 0 0 0 0 0 0 0 0 0 0 0 0 0 0 0 0 0 0 0 0 0 0 0 0 0 0 0\n",
      " 0 0 0 0 0 0 0 0 0 0 0 0 0 0 0 0 0 0 0 0 0 0 0 0 0 0 0 0 0 0 0 0 0 0 0 0 0\n",
      " 0 0 0 0 0 0 0 0 0 0 0 0 0 0 0 0 0 0 0 0 0 0 0 0 0 0 0 0 0 0 0 0 0 0 0 0 0\n",
      " 0 0 0 0 0 0 0 0 0 0 0 0 0 0 0 0 0 0 0 0 0 0 0 0 0 0 0 0 0 0 0 0 0 0 0 0 0\n",
      " 0 0 0 0 0 0 0 0 0 0 0 0 0 0 0 0 0 0 0 0 0 0 0 0 0 0 0 0 0 0 0 0 0 0 0 0 0\n",
      " 0 0 0 0 0 0 0 0 0 0 0 0 0 0 0 0 0 0 0 0 0 0 0 0 0 0 0 0 0 0 0 0 0 0 0 0 0\n",
      " 0 0 0 0 0 0 0 0 0 0 0 0 0 0 0 0 0 0 0 0 0 0 0 0 0 0 0 0 0 0 0 0 0 0 0 0 0\n",
      " 0 0 0 0 0 0 0 0 0 0 0 0 0 0 0 0 0 0 0 0 0 0 0 0 0 0 0 0 0 0 0 0 0 0 0 0 0\n",
      " 0 0 0 0 0 0 0]\n"
     ]
    }
   ],
   "source": [
    "valid_y = get_valid_true()\n",
    "print(valid_y[80])"
   ]
  },
  {
   "cell_type": "code",
   "execution_count": 13,
   "metadata": {},
   "outputs": [],
   "source": [
    "class TestGenerator(Sequence):\n",
    "    def __init__(self, \n",
    "                 test_df,\n",
    "                 datasplit_id,\n",
    "                 split='test_set',\n",
    "                 augment=null_augment, \n",
    "                 batch_size=128,\n",
    "                 mode='simplified',\n",
    "                 norm=None,\n",
    "                 shuffle=True):\n",
    "        \"\"\" data: could be 'train' or 'test', the former used to get splited dataset train_set or valid_set, \n",
    "                  the latter used to get the TEST_DF\n",
    "        \"\"\"\n",
    "        assert mode in ['simplified', 'raw']\n",
    "        \n",
    "        self.datasplit_id = datasplit_id\n",
    "        self.split = split\n",
    "        self.norm = norm\n",
    "        self.df = test_df\n",
    "        \n",
    "        self.augment = augment\n",
    "        self.batch_size = batch_size\n",
    "        self.mode = mode \n",
    "        self.H, self.W = 64, 64\n",
    "\n",
    "        num_class = 340\n",
    "\n",
    "        print('')\n",
    "\n",
    "        ### shuffle                    \n",
    "        if shuffle:\n",
    "            np.random.shuffle(self.datasplit_id)\n",
    "        print('\\n')\n",
    "\n",
    "        \n",
    "    def __str__(self):\n",
    "        N = len(self.datasplit_id)\n",
    "        string = ''\\\n",
    "        + '\\tdata         = %s\\n'%self.split \\\n",
    "        + '\\tmode         = %s\\n'%self.mode \\\n",
    "        + '\\tlen(self.datasplit_id) = %d\\n'%N \\\n",
    "        + '\\n'\n",
    "        return string\n",
    "\n",
    "\n",
    "    def __getitem__(self, idx):\n",
    "        if self.split == 'valid_set':\n",
    "            l_bound = idx * self.batch_size\n",
    "            r_bound = (idx + 1) * self.batch_size\n",
    "            if r_bound > len(self.datasplit_id):\n",
    "                r_bound = len(self.datasplit_id)\n",
    "                l_bound = r_bound - self.batch_size\n",
    "            instance_count = 0\n",
    "\n",
    "            x_batch = np.zeros((r_bound-l_bound, self.H, self.W, 3))\n",
    "            y_batch = np.zeros((r_bound-l_bound, 340), dtype='uint32')\n",
    "\n",
    "            for instance in self.datasplit_id[l_bound:r_bound]:\n",
    "                label, drawing_id, key_id = instance\n",
    "                drawing = self.df[label]['drawing'][drawing_id]\n",
    "                drawing = eval(drawing)\n",
    "\n",
    "                image, label = self.augment(drawing, label, idx)\n",
    "\n",
    "                x_batch[instance_count] = image\n",
    "                y_batch[instance_count, int(label)] = 1\n",
    "\n",
    "                if self.norm != None:\n",
    "                    x_batch[instance_count] = self.norm(image)\n",
    "\n",
    "                instance_count += 1\n",
    "                \n",
    "            return x_batch\n",
    "            \n",
    "        else:\n",
    "            l_bound = idx * self.batch_size\n",
    "            r_bound = (idx + 1) * self.batch_size\n",
    "            \n",
    "            if r_bound > len(self.datasplit_id):\n",
    "                r_bound = len(self.datasplit_id)\n",
    "                l_bound = r_bound - self.batch_size\n",
    "            instance_count = 0\n",
    "\n",
    "            x_batch = np.zeros((r_bound - l_bound, self.H, self.W, 3))\n",
    "            \n",
    "            for instance in self.datasplit_id[l_bound:r_bound]:\n",
    "                drawing_id = instance\n",
    "                drawing = self.df['drawing'][idx]\n",
    "                drawing = eval(drawing)\n",
    "                \n",
    "                label = None\n",
    "                image, label = self.augment(drawing, label, idx)\n",
    "                \n",
    "                x_batch[instance_count] = image\n",
    "                \n",
    "                if self.norm != None:\n",
    "                    x_batch[instance_count] = self.norm(image)\n",
    "\n",
    "                instance_count += 1\n",
    "\n",
    "            return x_batch\n",
    "\n",
    "\n",
    "    def __len__(self):\n",
    "        return int(np.ceil(len(self.datasplit_id) / self.batch_size))"
   ]
  },
  {
   "cell_type": "code",
   "execution_count": 41,
   "metadata": {},
   "outputs": [
    {
     "name": "stdout",
     "output_type": "stream",
     "text": [
      "\n",
      "\n",
      "\n"
     ]
    }
   ],
   "source": [
    "test_batch = TestGenerator(test_df, test_id, batch_size=1, norm=normalize, shuffle=False)"
   ]
  },
  {
   "cell_type": "code",
   "execution_count": null,
   "metadata": {},
   "outputs": [],
   "source": []
  },
  {
   "cell_type": "code",
   "execution_count": null,
   "metadata": {},
   "outputs": [],
   "source": []
  },
  {
   "cell_type": "markdown",
   "metadata": {},
   "source": [
    "# Generate Sklearn Report"
   ]
  },
  {
   "cell_type": "code",
   "execution_count": 14,
   "metadata": {},
   "outputs": [
    {
     "name": "stdout",
     "output_type": "stream",
     "text": [
      "\n",
      "\n",
      "\n"
     ]
    }
   ],
   "source": [
    "valid_batch = TestGenerator(full_df, valid_id, batch_size=1, split='valid_set', norm=normalize, shuffle=False)"
   ]
  },
  {
   "cell_type": "code",
   "execution_count": 15,
   "metadata": {},
   "outputs": [
    {
     "data": {
      "text/plain": [
       "(1, 64, 64, 3)"
      ]
     },
     "execution_count": 15,
     "metadata": {},
     "output_type": "execute_result"
    }
   ],
   "source": [
    "valid_batch[0].shape"
   ]
  },
  {
   "cell_type": "code",
   "execution_count": 65,
   "metadata": {},
   "outputs": [
    {
     "data": {
      "text/plain": [
       "(64, 64, 3)"
      ]
     },
     "execution_count": 65,
     "metadata": {},
     "output_type": "execute_result"
    }
   ],
   "source": [
    "np.array(test_batch[0][0]).shape"
   ]
  },
  {
   "cell_type": "code",
   "execution_count": 16,
   "metadata": {},
   "outputs": [],
   "source": [
    "class_array = np.array(class_array)"
   ]
  },
  {
   "cell_type": "code",
   "execution_count": 27,
   "metadata": {},
   "outputs": [
    {
     "name": "stdout",
     "output_type": "stream",
     "text": [
      "27200/27200 [==============================] - 1182s 43ms/step\n"
     ]
    }
   ],
   "source": [
    "valid_y_preds = model.predict_generator(valid_batch, verbose=True)"
   ]
  },
  {
   "cell_type": "code",
   "execution_count": 71,
   "metadata": {},
   "outputs": [],
   "source": [
    "def sklearnReportForValid():\n",
    "    valid_true_cat = np.argmax(valid_y, 1)\n",
    "    pred_cat = np.argmax(valid_y_preds, 1)\n",
    "    plt.matshow(confusion_matrix(valid_true_cat, pred_cat))\n",
    "    report = classification_report(valid_true_cat, pred_cat, \n",
    "                            target_names = [x for x in class_array])\n",
    "    return report"
   ]
  },
  {
   "cell_type": "code",
   "execution_count": 49,
   "metadata": {},
   "outputs": [],
   "source": [
    "pred_cat = np.argmax(valid_y_preds, 1)"
   ]
  },
  {
   "cell_type": "code",
   "execution_count": 55,
   "metadata": {},
   "outputs": [],
   "source": [
    "valid_true_cat = np.argmax(valid_y, 1)"
   ]
  },
  {
   "cell_type": "code",
   "execution_count": 67,
   "metadata": {},
   "outputs": [
    {
     "name": "stdout",
     "output_type": "stream",
     "text": [
      "[1 1 1 1 1 1 1 1 1 1 1 1 1 1 1 1 1 1 1 1 1 1 1 1 1 1 1 1 1 1 1 1 1 1 1 1 1\n",
      " 1 1 1 1 1 1 1 1 1 1 1 1 1 1 1 1 1 1 1 1 1 1 1 1 1 1 1 1 1 1 1 1 1 1 1 1 1\n",
      " 1 1 1 1 1 1 2 2 2 2 2]\n",
      "[ 17   1   1   1 150   1 173 179   1   1   1  58   1   1  92   1   1   1\n",
      "  30   1   1 140 313   1   1   1  82   1 243   1 277 243 243   1  24 171\n",
      "   1   1   1   1 213   1  24 243   1 243  58   1   1   1   1   1 171   1\n",
      " 268   1   1   1   1   1   1   1   1 317   1   1   1 113   1 191   1   1\n",
      "   1   1   1 243   1   1   1   1   2   2   2   2   2]\n",
      "[25 25 25 25 25 25 25 25 25 25 25 25 25 25 25 25 25 25 25 25 25 25 25 25\n",
      " 25 25 25 25 25 25 25 25 25 25 25 25 25 25 25 25 25 25 25 25 25 25 25 25\n",
      " 25 25 25 25 25 25 25 25 25 25 25 25 25 25 25 25 25 25 25 25 25 25 25 25\n",
      " 25 25 25 25 25 25 25 25]\n",
      "[337  25 334  25  25  25  25  25  25 127 208 208 186 302 208  93  25  25\n",
      " 302 279 186 302 302  25  25  93  25  25   4  25 127  93 302 186 271 186\n",
      "  25  25 208  25  25  25 134 186  25  25 222  25 186  25  66  25  25  25\n",
      "  25 302 161  25 161 302 302  25  25 302  25 208  25  25 311  25 337 186\n",
      "  25 186  25  25  83  66  25  25]\n",
      "bear\n"
     ]
    }
   ],
   "source": [
    "print(valid_true_cat[80:165])\n",
    "print(pred_cat[80:165])\n",
    "print(valid_true_cat[2000:2080])\n",
    "print(pred_cat[2000:2080])\n",
    "print(class_array[25])"
   ]
  },
  {
   "cell_type": "code",
   "execution_count": 72,
   "metadata": {
    "scrolled": false
   },
   "outputs": [
    {
     "name": "stdout",
     "output_type": "stream",
     "text": [
      "                         precision    recall  f1-score   support\n",
      "\n",
      "       The_Eiffel_Tower       0.96      0.91      0.94        80\n",
      "The_Great_Wall_of_China       0.60      0.66      0.63        80\n",
      "          The_Mona_Lisa       0.87      0.94      0.90        80\n",
      "               airplane       0.91      0.91      0.91        80\n",
      "            alarm_clock       0.94      0.91      0.92        80\n",
      "              ambulance       0.82      0.84      0.83        80\n",
      "                  angel       0.89      0.96      0.92        80\n",
      "       animal_migration       0.73      0.82      0.78        80\n",
      "                    ant       0.89      0.88      0.88        80\n",
      "                  anvil       0.90      0.86      0.88        80\n",
      "                  apple       0.94      0.90      0.92        80\n",
      "                    arm       0.84      0.81      0.83        80\n",
      "              asparagus       0.77      0.81      0.79        80\n",
      "                    axe       0.96      0.86      0.91        80\n",
      "               backpack       0.90      0.91      0.91        80\n",
      "                 banana       0.71      0.91      0.80        80\n",
      "                bandage       0.89      0.80      0.84        80\n",
      "                   barn       0.79      0.80      0.80        80\n",
      "               baseball       0.86      0.78      0.82        80\n",
      "           baseball_bat       0.96      0.81      0.88        80\n",
      "                 basket       0.79      0.74      0.76        80\n",
      "             basketball       0.79      0.82      0.80        80\n",
      "                    bat       0.90      0.82      0.86        80\n",
      "                bathtub       0.74      0.88      0.80        80\n",
      "                  beach       0.84      0.80      0.82        80\n",
      "                   bear       0.62      0.49      0.55        80\n",
      "                  beard       0.75      0.79      0.77        80\n",
      "                    bed       0.87      0.82      0.85        80\n",
      "                    bee       0.90      0.95      0.93        80\n",
      "                   belt       0.85      0.90      0.87        80\n",
      "                  bench       0.74      0.64      0.68        80\n",
      "                bicycle       0.81      0.85      0.83        80\n",
      "             binoculars       0.86      0.85      0.86        80\n",
      "                   bird       0.68      0.55      0.61        80\n",
      "          birthday_cake       0.65      0.61      0.63        80\n",
      "             blackberry       0.62      0.56      0.59        80\n",
      "              blueberry       0.73      0.65      0.69        80\n",
      "                   book       0.90      0.89      0.89        80\n",
      "              boomerang       0.84      0.80      0.82        80\n",
      "              bottlecap       0.81      0.69      0.74        80\n",
      "                 bowtie       0.91      0.94      0.93        80\n",
      "               bracelet       0.83      0.78      0.80        80\n",
      "                  brain       0.75      0.86      0.80        80\n",
      "                  bread       0.86      0.69      0.76        80\n",
      "                 bridge       0.88      0.82      0.85        80\n",
      "               broccoli       0.86      0.89      0.87        80\n",
      "                  broom       0.82      0.75      0.78        80\n",
      "                 bucket       0.79      0.74      0.76        80\n",
      "              bulldozer       0.83      0.89      0.86        80\n",
      "                    bus       0.51      0.71      0.59        80\n",
      "                   bush       0.76      0.69      0.72        80\n",
      "              butterfly       0.95      0.89      0.92        80\n",
      "                 cactus       0.95      0.89      0.92        80\n",
      "                   cake       0.66      0.65      0.65        80\n",
      "             calculator       0.88      0.84      0.86        80\n",
      "               calendar       0.56      0.79      0.65        80\n",
      "                  camel       0.94      0.91      0.92        80\n",
      "                 camera       0.90      0.93      0.91        80\n",
      "             camouflage       0.32      0.69      0.44        80\n",
      "               campfire       0.82      0.85      0.83        80\n",
      "                 candle       0.95      0.89      0.92        80\n",
      "                 cannon       0.91      0.85      0.88        80\n",
      "                  canoe       0.85      0.80      0.83        80\n",
      "                    car       0.67      0.80      0.73        80\n",
      "                 carrot       0.89      0.94      0.91        80\n",
      "                 castle       0.91      0.88      0.89        80\n",
      "                    cat       0.78      0.82      0.80        80\n",
      "            ceiling_fan       0.91      0.88      0.89        80\n",
      "             cell_phone       0.80      0.86      0.83        80\n",
      "                  cello       0.61      0.65      0.63        80\n",
      "                  chair       0.95      0.94      0.94        80\n",
      "             chandelier       0.87      0.90      0.88        80\n",
      "                 church       0.81      0.85      0.83        80\n",
      "                 circle       0.74      0.81      0.77        80\n",
      "               clarinet       0.81      0.69      0.74        80\n",
      "                  clock       0.92      0.95      0.93        80\n",
      "                  cloud       0.81      0.85      0.83        80\n",
      "             coffee_cup       0.62      0.69      0.65        80\n",
      "                compass       0.90      0.90      0.90        80\n",
      "               computer       0.91      0.75      0.82        80\n",
      "                 cookie       0.81      0.84      0.82        80\n",
      "                 cooler       0.52      0.57      0.55        80\n",
      "                  couch       0.88      0.89      0.88        80\n",
      "                    cow       0.78      0.78      0.78        80\n",
      "                   crab       0.90      0.86      0.88        80\n",
      "                 crayon       0.78      0.53      0.63        80\n",
      "              crocodile       0.83      0.88      0.85        80\n",
      "                  crown       0.95      0.91      0.93        80\n",
      "            cruise_ship       0.88      0.84      0.86        80\n",
      "                    cup       0.75      0.54      0.63        80\n",
      "                diamond       0.89      0.94      0.91        80\n",
      "             dishwasher       0.70      0.76      0.73        80\n",
      "           diving_board       0.61      0.74      0.67        80\n",
      "                    dog       0.69      0.80      0.74        80\n",
      "                dolphin       0.92      0.82      0.87        80\n",
      "                  donut       0.89      0.96      0.92        80\n",
      "                   door       0.89      0.84      0.86        80\n",
      "                 dragon       0.78      0.76      0.77        80\n",
      "                dresser       0.87      0.85      0.86        80\n",
      "                  drill       0.88      0.79      0.83        80\n",
      "                  drums       0.90      0.93      0.91        80\n",
      "                   duck       0.75      0.68      0.71        80\n",
      "               dumbbell       0.88      0.85      0.87        80\n",
      "                    ear       0.91      0.86      0.88        80\n",
      "                  elbow       0.90      0.81      0.86        80\n",
      "               elephant       0.88      0.81      0.84        80\n",
      "               envelope       0.88      0.94      0.91        80\n",
      "                 eraser       0.82      0.74      0.78        80\n",
      "                    eye       0.97      0.95      0.96        80\n",
      "             eyeglasses       0.88      0.89      0.88        80\n",
      "                   face       0.75      0.86      0.80        80\n",
      "                    fan       0.93      0.89      0.91        80\n",
      "                feather       0.77      0.76      0.77        80\n",
      "                  fence       0.77      0.84      0.80        80\n",
      "                 finger       0.73      0.84      0.78        80\n",
      "           fire_hydrant       0.88      0.82      0.85        80\n",
      "              fireplace       0.93      0.86      0.90        80\n",
      "              firetruck       0.67      0.76      0.71        80\n",
      "                   fish       0.91      0.93      0.92        80\n",
      "               flamingo       0.88      0.82      0.85        80\n",
      "             flashlight       0.89      0.90      0.89        80\n",
      "             flip_flops       0.92      0.81      0.86        80\n",
      "             floor_lamp       0.87      0.78      0.82        80\n",
      "                 flower       0.90      0.91      0.91        80\n",
      "          flying_saucer       0.76      0.82      0.79        80\n",
      "                   foot       0.77      0.80      0.79        80\n",
      "                   fork       0.91      0.75      0.82        80\n",
      "                   frog       0.69      0.76      0.72        80\n",
      "             frying_pan       0.96      0.88      0.92        80\n",
      "                 garden       0.77      0.84      0.80        80\n",
      "            garden_hose       0.71      0.51      0.59        80\n",
      "                giraffe       0.92      0.91      0.92        80\n",
      "                 goatee       0.82      0.72      0.77        80\n",
      "              golf_club       0.74      0.80      0.77        80\n",
      "                 grapes       0.74      0.89      0.81        80\n",
      "                  grass       0.77      0.90      0.83        80\n",
      "                 guitar       0.70      0.55      0.62        80\n",
      "              hamburger       0.83      0.85      0.84        80\n",
      "                 hammer       0.88      0.91      0.90        80\n",
      "                   hand       0.81      0.95      0.87        80\n",
      "                   harp       0.85      0.90      0.87        80\n",
      "                    hat       0.80      0.93      0.86        80\n",
      "             headphones       0.96      0.95      0.96        80\n",
      "               hedgehog       0.89      0.91      0.90        80\n",
      "             helicopter       0.94      0.94      0.94        80\n",
      "                 helmet       0.88      0.82      0.85        80\n",
      "                hexagon       0.78      0.74      0.76        80\n",
      "            hockey_puck       0.68      0.86      0.76        80\n",
      "           hockey_stick       0.76      0.71      0.74        80\n",
      "                  horse       0.80      0.89      0.84        80\n",
      "               hospital       0.84      0.90      0.87        80\n",
      "        hot_air_balloon       0.97      0.84      0.90        80\n",
      "                hot_dog       0.79      0.86      0.83        80\n",
      "                hot_tub       0.84      0.65      0.73        80\n",
      "              hourglass       0.96      0.91      0.94        80\n",
      "                  house       0.87      0.90      0.88        80\n",
      "            house_plant       0.91      0.91      0.91        80\n",
      "              hurricane       0.56      0.60      0.58        80\n",
      "              ice_cream       0.94      0.97      0.96        80\n",
      "                 jacket       0.80      0.80      0.80        80\n",
      "                   jail       0.87      0.82      0.85        80\n",
      "               kangaroo       0.82      0.93      0.87        80\n",
      "                    key       0.90      0.94      0.92        80\n",
      "               keyboard       0.73      0.78      0.75        80\n",
      "                   knee       0.76      0.86      0.81        80\n",
      "                 ladder       1.00      0.93      0.96        80\n",
      "                lantern       0.79      0.72      0.76        80\n",
      "                 laptop       0.77      0.89      0.83        80\n",
      "                   leaf       0.86      0.82      0.84        80\n",
      "                    leg       0.68      0.50      0.58        80\n",
      "             light_bulb       0.85      0.86      0.86        80\n",
      "             lighthouse       0.83      0.93      0.88        80\n",
      "              lightning       0.82      0.84      0.83        80\n",
      "                   line       0.68      0.91      0.78        80\n",
      "                   lion       0.91      0.89      0.90        80\n",
      "               lipstick       0.83      0.85      0.84        80\n",
      "                lobster       0.76      0.82      0.79        80\n",
      "               lollipop       0.82      0.93      0.87        80\n",
      "                mailbox       0.91      0.88      0.89        80\n",
      "                    map       0.86      0.88      0.87        80\n",
      "                 marker       0.47      0.69      0.56        80\n",
      "                matches       0.84      0.72      0.78        80\n",
      "              megaphone       0.88      0.81      0.84        80\n",
      "                mermaid       0.96      0.91      0.94        80\n",
      "             microphone       0.87      0.84      0.85        80\n",
      "              microwave       0.87      0.85      0.86        80\n",
      "                 monkey       0.71      0.70      0.70        80\n",
      "                   moon       0.78      0.56      0.65        80\n",
      "               mosquito       0.78      0.74      0.76        80\n",
      "              motorbike       0.71      0.70      0.70        80\n",
      "               mountain       0.89      0.84      0.86        80\n",
      "                  mouse       0.79      0.74      0.76        80\n",
      "              moustache       0.88      0.90      0.89        80\n",
      "                  mouth       0.82      0.86      0.84        80\n",
      "                    mug       0.59      0.66      0.62        80\n",
      "               mushroom       0.79      0.88      0.83        80\n",
      "                   nail       0.76      0.74      0.75        80\n",
      "               necklace       0.88      0.79      0.83        80\n",
      "                   nose       0.77      0.85      0.81        80\n",
      "                  ocean       0.78      0.72      0.75        80\n",
      "                octagon       0.79      0.76      0.78        80\n",
      "                octopus       0.93      0.93      0.93        80\n",
      "                  onion       0.88      0.76      0.82        80\n",
      "                   oven       0.61      0.57      0.59        80\n",
      "                    owl       0.90      0.89      0.89        80\n",
      "              paint_can       0.78      0.65      0.71        80\n",
      "             paintbrush       0.77      0.79      0.78        80\n",
      "              palm_tree       0.93      0.79      0.85        80\n",
      "                  panda       0.78      0.78      0.78        80\n",
      "                  pants       0.91      0.85      0.88        80\n",
      "             paper_clip       0.88      0.95      0.92        80\n",
      "              parachute       0.95      0.96      0.96        80\n",
      "                 parrot       0.67      0.76      0.71        80\n",
      "               passport       0.88      0.84      0.86        80\n",
      "                 peanut       0.79      0.86      0.83        80\n",
      "                   pear       0.91      0.88      0.89        80\n",
      "                   peas       0.76      0.81      0.79        80\n",
      "                 pencil       0.78      0.78      0.78        80\n",
      "                penguin       0.89      0.89      0.89        80\n",
      "                  piano       0.88      0.79      0.83        80\n",
      "           pickup_truck       0.78      0.76      0.77        80\n",
      "          picture_frame       0.87      0.90      0.88        80\n",
      "                    pig       0.82      0.86      0.84        80\n",
      "                 pillow       0.73      0.74      0.73        80\n",
      "              pineapple       0.90      0.89      0.89        80\n",
      "                  pizza       0.96      0.91      0.94        80\n",
      "                 pliers       0.87      0.74      0.80        80\n",
      "             police_car       0.89      0.61      0.73        80\n",
      "                   pond       0.67      0.60      0.63        80\n",
      "                   pool       0.67      0.53      0.59        80\n",
      "               popsicle       0.89      0.78      0.83        80\n",
      "               postcard       0.85      0.71      0.78        80\n",
      "                 potato       0.49      0.78      0.60        80\n",
      "           power_outlet       0.83      0.84      0.83        80\n",
      "                  purse       0.76      0.72      0.74        80\n",
      "                 rabbit       0.91      0.85      0.88        80\n",
      "                raccoon       0.79      0.53      0.63        80\n",
      "                  radio       0.76      0.78      0.77        80\n",
      "                   rain       0.93      0.88      0.90        80\n",
      "                rainbow       0.94      0.95      0.94        80\n",
      "                   rake       0.75      0.79      0.77        80\n",
      "         remote_control       0.90      0.91      0.91        80\n",
      "             rhinoceros       0.79      0.84      0.81        80\n",
      "                  river       0.77      0.79      0.78        80\n",
      "         roller_coaster       0.85      0.82      0.84        80\n",
      "           rollerskates       0.94      0.90      0.92        80\n",
      "               sailboat       0.87      0.95      0.91        80\n",
      "               sandwich       0.80      0.75      0.77        80\n",
      "                    saw       0.92      0.89      0.90        80\n",
      "              saxophone       0.96      0.90      0.93        80\n",
      "             school_bus       0.68      0.49      0.57        80\n",
      "               scissors       0.94      0.93      0.93        80\n",
      "               scorpion       0.91      0.89      0.90        80\n",
      "            screwdriver       0.97      0.81      0.88        80\n",
      "             sea_turtle       0.90      0.91      0.91        80\n",
      "                see_saw       0.94      0.82      0.88        80\n",
      "                  shark       0.87      0.81      0.84        80\n",
      "                  sheep       0.94      0.93      0.93        80\n",
      "                   shoe       0.84      0.90      0.87        80\n",
      "                 shorts       0.77      0.90      0.83        80\n",
      "                 shovel       0.84      0.84      0.84        80\n",
      "                   sink       0.86      0.93      0.89        80\n",
      "             skateboard       0.94      0.93      0.93        80\n",
      "                  skull       0.97      0.91      0.94        80\n",
      "             skyscraper       0.78      0.81      0.80        80\n",
      "           sleeping_bag       0.81      0.81      0.81        80\n",
      "            smiley_face       0.84      0.81      0.83        80\n",
      "                  snail       0.93      0.93      0.93        80\n",
      "                  snake       0.80      0.86      0.83        80\n",
      "                snorkel       0.87      0.85      0.86        80\n",
      "              snowflake       0.91      0.88      0.89        80\n",
      "                snowman       0.92      0.99      0.95        80\n",
      "            soccer_ball       0.86      0.89      0.87        80\n",
      "                   sock       0.85      0.91      0.88        80\n",
      "              speedboat       0.76      0.93      0.83        80\n",
      "                 spider       0.80      0.94      0.86        80\n",
      "                  spoon       0.83      0.75      0.79        80\n",
      "            spreadsheet       0.64      0.71      0.67        80\n",
      "                 square       0.73      0.82      0.77        80\n",
      "               squiggle       0.59      0.55      0.57        80\n",
      "               squirrel       0.83      0.91      0.87        80\n",
      "                 stairs       0.91      0.96      0.93        80\n",
      "                   star       0.91      0.97      0.94        80\n",
      "                  steak       0.70      0.64      0.67        80\n",
      "                 stereo       0.70      0.72      0.71        80\n",
      "            stethoscope       0.90      0.90      0.90        80\n",
      "               stitches       0.92      0.89      0.90        80\n",
      "              stop_sign       0.99      0.94      0.96        80\n",
      "                  stove       0.86      0.86      0.86        80\n",
      "             strawberry       0.86      0.89      0.87        80\n",
      "            streetlight       0.91      0.80      0.85        80\n",
      "            string_bean       0.68      0.54      0.60        80\n",
      "              submarine       0.87      0.86      0.87        80\n",
      "               suitcase       0.83      0.68      0.74        80\n",
      "                    sun       0.89      0.93      0.91        80\n",
      "                   swan       0.81      0.76      0.79        80\n",
      "                sweater       0.82      0.68      0.74        80\n",
      "              swing_set       0.95      0.93      0.94        80\n",
      "                  sword       0.90      0.88      0.89        80\n",
      "                t-shirt       0.81      0.93      0.87        80\n",
      "                  table       0.78      0.90      0.84        80\n",
      "                 teapot       0.92      0.86      0.89        80\n",
      "             teddy-bear       0.76      0.86      0.81        80\n",
      "              telephone       0.94      0.74      0.83        80\n",
      "             television       0.96      0.90      0.93        80\n",
      "         tennis_racquet       0.86      0.97      0.91        80\n",
      "                   tent       0.90      0.82      0.86        80\n",
      "                  tiger       0.69      0.64      0.66        80\n",
      "                toaster       0.93      0.86      0.90        80\n",
      "                    toe       0.82      0.84      0.83        80\n",
      "                 toilet       0.96      0.90      0.93        80\n",
      "                  tooth       0.87      0.89      0.88        80\n",
      "             toothbrush       0.85      0.93      0.89        80\n",
      "             toothpaste       0.77      0.66      0.71        80\n",
      "                tornado       0.69      0.81      0.75        80\n",
      "                tractor       0.88      0.79      0.83        80\n",
      "          traffic_light       0.89      0.89      0.89        80\n",
      "                  train       0.85      0.85      0.85        80\n",
      "                   tree       0.81      0.81      0.81        80\n",
      "               triangle       0.91      0.94      0.93        80\n",
      "               trombone       0.70      0.61      0.65        80\n",
      "                  truck       0.49      0.35      0.41        80\n",
      "                trumpet       0.65      0.79      0.71        80\n",
      "               umbrella       0.95      0.91      0.93        80\n",
      "              underwear       0.91      0.80      0.85        80\n",
      "                    van       0.57      0.64      0.60        80\n",
      "                   vase       0.88      0.85      0.87        80\n",
      "                 violin       0.49      0.59      0.54        80\n",
      "        washing_machine       0.90      0.91      0.91        80\n",
      "             watermelon       0.84      0.76      0.80        80\n",
      "             waterslide       0.80      0.88      0.83        80\n",
      "                  whale       0.92      0.90      0.91        80\n",
      "                  wheel       0.86      0.91      0.88        80\n",
      "               windmill       0.86      0.89      0.87        80\n",
      "            wine_bottle       0.86      0.84      0.85        80\n",
      "             wine_glass       0.90      0.89      0.89        80\n",
      "             wristwatch       0.85      0.94      0.89        80\n",
      "                   yoga       0.69      0.89      0.78        80\n",
      "                  zebra       0.82      0.85      0.83        80\n",
      "                 zigzag       0.93      0.79      0.85        80\n",
      "\n",
      "            avg / total       0.83      0.82      0.82     27200\n",
      "\n"
     ]
    },
    {
     "data": {
      "image/png": "[encoded data removed]",
      "text/plain": [
       "<matplotlib.figure.Figure at 0x894975f60>"
      ]
     },
     "metadata": {},
     "output_type": "display_data"
    }
   ],
   "source": [
    "report = sklearnReportForValid()\n",
    "print(report)"
   ]
  },
  {
   "cell_type": "code",
   "execution_count": 85,
   "metadata": {},
   "outputs": [],
   "source": [
    "def classification_report_csv(report):\n",
    "    report_data = []\n",
    "    lines = report.split('\\n')\n",
    "    for line in lines[2:-3]:\n",
    "        row = {}\n",
    "        row_data = line.split('      ')\n",
    "        row_data = list(filter(None, row_data))\n",
    "        row['class'] = row_data[0]\n",
    "        row['precision'] = float(row_data[1])\n",
    "        row['recall'] = float(row_data[2])\n",
    "        row['f1_score'] = float(row_data[3])\n",
    "        row['support'] = float(row_data[4])\n",
    "        report_data.append(row)\n",
    "    dataframe = pd.DataFrame.from_dict(report_data)\n",
    "    dataframe.to_csv('classification_report.csv', index = False)"
   ]
  },
  {
   "cell_type": "code",
   "execution_count": 86,
   "metadata": {},
   "outputs": [],
   "source": [
    "classification_report_csv(report)"
   ]
  },
  {
   "cell_type": "code",
   "execution_count": null,
   "metadata": {},
   "outputs": [],
   "source": []
  },
  {
   "cell_type": "code",
   "execution_count": null,
   "metadata": {},
   "outputs": [],
   "source": []
  },
  {
   "cell_type": "markdown",
   "metadata": {
    "collapsed": true
   },
   "source": [
    "# Make a submission"
   ]
  },
  {
   "cell_type": "code",
   "execution_count": 170,
   "metadata": {},
   "outputs": [
    {
     "data": {
      "text/plain": [
       "array([9000003627287624, 9000010688666847, 9000023642890129, ...,\n",
       "       9999968529902445, 9999969540362833, 9999996442242305])"
      ]
     },
     "execution_count": 170,
     "metadata": {},
     "output_type": "execute_result"
    }
   ],
   "source": [
    "test_id"
   ]
  },
  {
   "cell_type": "code",
   "execution_count": 51,
   "metadata": {},
   "outputs": [
    {
     "name": "stdout",
     "output_type": "stream",
     "text": [
      "112199/112199 [==============================] - 2803s 25ms/step\n"
     ]
    }
   ],
   "source": [
    "test_y_preds = model.predict_generator(test_batch, verbose=True)"
   ]
  },
  {
   "cell_type": "code",
   "execution_count": 52,
   "metadata": {
    "collapsed": true
   },
   "outputs": [],
   "source": [
    "top_3_predicition = [class_array[np.argsort(-1*pred)[:3]] for pred in test_y_preds]"
   ]
  },
  {
   "cell_type": "code",
   "execution_count": 53,
   "metadata": {
    "collapsed": true
   },
   "outputs": [],
   "source": [
    "top_3_predicition = np.squeeze(top_3_predicition)\n",
    "top_3_predicition = [' '.join([col.replace(' ', '_') for col in row]) for row in top_3_predicition]"
   ]
  },
  {
   "cell_type": "code",
   "execution_count": 54,
   "metadata": {
    "collapsed": true
   },
   "outputs": [],
   "source": [
    "test_df['word'] = top_3_predicition"
   ]
  },
  {
   "cell_type": "code",
   "execution_count": 55,
   "metadata": {
    "collapsed": true
   },
   "outputs": [],
   "source": [
    "test_df[['key_id', 'word']].to_csv('rn50_2000_Ocb29.csv', index=False)"
   ]
  },
  {
   "cell_type": "code",
   "execution_count": null,
   "metadata": {
    "collapsed": true
   },
   "outputs": [],
   "source": []
  }
 ],
 "metadata": {
  "kernelspec": {
   "display_name": "Python 3",
   "language": "python",
   "name": "python3"
  },
  "language_info": {
   "codemirror_mode": {
    "name": "ipython",
    "version": 3
   },
   "file_extension": ".py",
   "mimetype": "text/x-python",
   "name": "python",
   "nbconvert_exporter": "python",
   "pygments_lexer": "ipython3",
   "version": "3.6.4"
  }
 },
 "nbformat": 4,
 "nbformat_minor": 2
}
