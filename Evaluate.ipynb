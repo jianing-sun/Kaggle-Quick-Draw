{
 "cells": [
  {
   "cell_type": "code",
   "execution_count": 57,
   "metadata": {},
   "outputs": [],
   "source": [
    "import os\n",
    "from glob import glob\n",
    "import nbimporter\n",
    "import pandas as pd\n",
    "import numpy as np\n",
    "\n",
    "from ResNet34 import ResnetBuilder\n",
    "from DataParserForCNN import read_class, read_full_df, null_augment, drawing_to_image\n",
    "from keras import backend as K\n",
    "from DataParserForCNN import ImageBatchGenerator\n",
    "from keras.utils import Sequence\n",
    "\n",
    "import matplotlib.pyplot as plt\n",
    "%matplotlib inline"
   ]
  },
  {
   "cell_type": "code",
   "execution_count": 3,
   "metadata": {},
   "outputs": [],
   "source": [
    "def get_model(net, weight_path):\n",
    "    \n",
    "    if net == 'wavenet':\n",
    "        wavenet_params = WaveNetParams()\n",
    "        model = WaveNet(wavenet_params)\n",
    "        \n",
    "    elif net == 'resnet34':\n",
    "        K.set_image_dim_ordering('tf')\n",
    "        model = ResnetBuilder.build_resnet_34((3, 64, 64), 340)\n",
    "        \n",
    "    model.load_weights(weight_path)\n",
    "    \n",
    "    return model"
   ]
  },
  {
   "cell_type": "code",
   "execution_count": 4,
   "metadata": {},
   "outputs": [],
   "source": [
    "def evaluateTestSet(net, weight_path):\n",
    "    result = model.evaluate(x_test, y_test, batch_size=2048)\n",
    "    print('Accuracy: %2.1f%%, Top 3 Accuracy %2.1f%%' % (100*result[1], 100*result[2]))"
   ]
  },
  {
   "cell_type": "code",
   "execution_count": 5,
   "metadata": {},
   "outputs": [],
   "source": [
    "def sklearnReport(model, weight_path):\n",
    "    model = model.load_weights(weight_path)\n",
    "    test_cat = np.argmax(y_test, 1)\n",
    "    pred_y = model.predict(x_test, batch_size = 4096)\n",
    "    pred_cat = np.argmax(pred_y, 1)\n",
    "    plt.matshow(confusion_matrix(test_cat, pred_cat))\n",
    "    print(classification_report(test_cat, pred_cat, \n",
    "                            target_names = [x for x in word_encoder.classes_]))"
   ]
  },
  {
   "cell_type": "code",
   "execution_count": 1,
   "metadata": {},
   "outputs": [
    {
     "ename": "NameError",
     "evalue": "name 'os' is not defined",
     "output_type": "error",
     "traceback": [
      "\u001b[0;31m---------------------------------------------------------------------------\u001b[0m",
      "\u001b[0;31mNameError\u001b[0m                                 Traceback (most recent call last)",
      "\u001b[0;32m<ipython-input-1-df0423eed4c3>\u001b[0m in \u001b[0;36m<module>\u001b[0;34m()\u001b[0m\n\u001b[1;32m      1\u001b[0m \u001b[0mbase_path\u001b[0m \u001b[0;34m=\u001b[0m \u001b[0;34m'/home/jianing_sun/data_split/'\u001b[0m\u001b[0;34m\u001b[0m\u001b[0m\n\u001b[0;32m----> 2\u001b[0;31m \u001b[0mtest_path\u001b[0m \u001b[0;34m=\u001b[0m \u001b[0mos\u001b[0m\u001b[0;34m.\u001b[0m\u001b[0mpath\u001b[0m\u001b[0;34m.\u001b[0m\u001b[0mjoin\u001b[0m\u001b[0;34m(\u001b[0m\u001b[0mbase_dir\u001b[0m\u001b[0;34m,\u001b[0m \u001b[0;34m'/test_simplified.csv'\u001b[0m\u001b[0;34m)\u001b[0m\u001b[0;34m\u001b[0m\u001b[0m\n\u001b[0m\u001b[1;32m      3\u001b[0m \u001b[0mall_train_paths\u001b[0m \u001b[0;34m=\u001b[0m \u001b[0mglob\u001b[0m\u001b[0;34m(\u001b[0m\u001b[0mos\u001b[0m\u001b[0;34m.\u001b[0m\u001b[0mpath\u001b[0m\u001b[0;34m.\u001b[0m\u001b[0mjoin\u001b[0m\u001b[0;34m(\u001b[0m\u001b[0mbase_dir\u001b[0m\u001b[0;34m,\u001b[0m \u001b[0;34m'train_simplified'\u001b[0m\u001b[0;34m,\u001b[0m \u001b[0;34m'*.csv'\u001b[0m\u001b[0;34m)\u001b[0m\u001b[0;34m)\u001b[0m\u001b[0;34m\u001b[0m\u001b[0m\n\u001b[1;32m      4\u001b[0m \u001b[0mcols\u001b[0m \u001b[0;34m=\u001b[0m \u001b[0;34m[\u001b[0m\u001b[0;34m'countrycode'\u001b[0m\u001b[0;34m,\u001b[0m \u001b[0;34m'drawing'\u001b[0m\u001b[0;34m,\u001b[0m \u001b[0;34m'key_id'\u001b[0m\u001b[0;34m,\u001b[0m \u001b[0;34m'recognized'\u001b[0m\u001b[0;34m,\u001b[0m \u001b[0;34m'timestamp'\u001b[0m\u001b[0;34m,\u001b[0m \u001b[0;34m'word'\u001b[0m\u001b[0;34m]\u001b[0m\u001b[0;34m\u001b[0m\u001b[0m\n",
      "\u001b[0;31mNameError\u001b[0m: name 'os' is not defined"
     ]
    }
   ],
   "source": [
    "base_path = '/home/jianing_sun/data_split/'\n",
    "test_path = os.path.join(base_dir, '/test_simplified.csv')\n",
    "all_train_paths = glob(os.path.join(base_dir, 'train_simplified', '*.csv'))\n",
    "cols = ['countrycode', 'drawing', 'key_id', 'recognized', 'timestamp', 'word']\n"
   ]
  },
  {
   "cell_type": "code",
   "execution_count": 98,
   "metadata": {},
   "outputs": [],
   "source": [
    "model = get_model('resnet34', './qd_rn34_weights00198000.h5')"
   ]
  },
  {
   "cell_type": "code",
   "execution_count": 9,
   "metadata": {},
   "outputs": [],
   "source": [
    "base_path = '/home/jianing_sun/qd/data_split/'\n",
    "class_array = read_class()"
   ]
  },
  {
   "cell_type": "code",
   "execution_count": 10,
   "metadata": {},
   "outputs": [
    {
     "name": "stdout",
     "output_type": "stream",
     "text": [
      "\t load df   :  339/340                   zigzag   7 min 43 sec\n",
      "\n",
      "\t load valid_set split:  339/340                   zigzag   7 min 57 sec"
     ]
    }
   ],
   "source": [
    "full_df, train_id, valid_id = read_full_df(base_path, class_array)"
   ]
  },
  {
   "cell_type": "code",
   "execution_count": 12,
   "metadata": {},
   "outputs": [
    {
     "name": "stdout",
     "output_type": "stream",
     "text": [
      "\n",
      "\n"
     ]
    }
   ],
   "source": [
    "def normalize(image):\n",
    "    return image / 255.\n",
    "\n",
    "\n",
    "valid_batch = ImageBatchGenerator(base_path=base_path,\n",
    "                                  class_array=class_array,\n",
    "                                  full_df=full_df,\n",
    "                                  datasplit_id=valid_id,\n",
    "                                  split='valid_set',\n",
    "                                  batch_size=128, \n",
    "                                  augment=null_augment, \n",
    "                                  mode='simplified', \n",
    "                                  norm=normalize,\n",
    "                                  shuffle=True)"
   ]
  },
  {
   "cell_type": "code",
   "execution_count": 55,
   "metadata": {},
   "outputs": [
    {
     "data": {
      "text/plain": [
       "2"
      ]
     },
     "execution_count": 55,
     "metadata": {},
     "output_type": "execute_result"
    }
   ],
   "source": [
    "len(valid_batch[0])"
   ]
  },
  {
   "cell_type": "code",
   "execution_count": 8,
   "metadata": {},
   "outputs": [
    {
     "ename": "NameError",
     "evalue": "name 'model' is not defined",
     "output_type": "error",
     "traceback": [
      "\u001b[0;31m---------------------------------------------------------------------------\u001b[0m",
      "\u001b[0;31mNameError\u001b[0m                                 Traceback (most recent call last)",
      "\u001b[0;32m<ipython-input-8-78b17aa213a8>\u001b[0m in \u001b[0;36m<module>\u001b[0;34m()\u001b[0m\n\u001b[1;32m     31\u001b[0m \u001b[0;34m\u001b[0m\u001b[0m\n\u001b[1;32m     32\u001b[0m \u001b[0moptimizer\u001b[0m \u001b[0;34m=\u001b[0m \u001b[0mAdam\u001b[0m\u001b[0;34m(\u001b[0m\u001b[0mlr\u001b[0m\u001b[0;34m=\u001b[0m\u001b[0;36m1e-4\u001b[0m\u001b[0;34m,\u001b[0m \u001b[0mbeta_1\u001b[0m\u001b[0;34m=\u001b[0m\u001b[0;36m0.9\u001b[0m\u001b[0;34m,\u001b[0m \u001b[0mbeta_2\u001b[0m\u001b[0;34m=\u001b[0m\u001b[0;36m0.999\u001b[0m\u001b[0;34m,\u001b[0m \u001b[0mepsilon\u001b[0m\u001b[0;34m=\u001b[0m\u001b[0;36m1e-08\u001b[0m\u001b[0;34m,\u001b[0m \u001b[0mdecay\u001b[0m\u001b[0;34m=\u001b[0m\u001b[0;36m0.0\u001b[0m\u001b[0;34m)\u001b[0m\u001b[0;34m\u001b[0m\u001b[0m\n\u001b[0;32m---> 33\u001b[0;31m model.compile(loss='categorical_crossentropy', \n\u001b[0m\u001b[1;32m     34\u001b[0m               \u001b[0mmetrics\u001b[0m \u001b[0;34m=\u001b[0m \u001b[0;34m[\u001b[0m\u001b[0;34m'accuracy'\u001b[0m\u001b[0;34m,\u001b[0m \u001b[0mtop_3_accuracy\u001b[0m\u001b[0;34m,\u001b[0m \u001b[0mmap_3\u001b[0m\u001b[0;34m]\u001b[0m\u001b[0;34m,\u001b[0m\u001b[0;34m\u001b[0m\u001b[0m\n\u001b[1;32m     35\u001b[0m               optimizer=optimizer)\n",
      "\u001b[0;31mNameError\u001b[0m: name 'model' is not defined"
     ]
    }
   ],
   "source": [
    "from keras.optimizers import Adam\n",
    "from keras.metrics import top_k_categorical_accuracy\n",
    "\n",
    "\n",
    "def top_3_accuracy(y_true, y_pred): \n",
    "    return top_k_categorical_accuracy(y_true, y_pred, 3)\n",
    "\n",
    "\n",
    "def ap_3(y_true, y_pred):\n",
    "    score = 0.0\n",
    "    num_tp = 0.0\n",
    "    \n",
    "    if len(y_pred) > 3:\n",
    "        y_pred = y_pred[:3]\n",
    "\n",
    "    for i, p in enumerate(y_pred):\n",
    "        if p in y_true and p not in y_pred[:i]:\n",
    "            num_tp += 1.0\n",
    "            score += num_tp / (i+1.0)\n",
    "\n",
    "    if not y_truth:\n",
    "        return 0.0\n",
    "    \n",
    "    return score / min(len(y_true), 3)\n",
    "\n",
    "\n",
    "def map_3(y_true, y_pred):\n",
    "    \"\"\" map average precision with maximum 3 predicted elements \"\"\"\n",
    "    return np.mean([ap_3(a, p) for a, p in zip(y_true, y_pred)])\n",
    "\n",
    "\n",
    "optimizer = Adam(lr=1e-4, beta_1=0.9, beta_2=0.999, epsilon=1e-08, decay=0.0)\n",
    "model.compile(loss='categorical_crossentropy', \n",
    "              metrics = ['accuracy', top_3_accuracy, map_3],\n",
    "              optimizer=optimizer)"
   ]
  },
  {
   "cell_type": "code",
   "execution_count": 86,
   "metadata": {},
   "outputs": [
    {
     "name": "stdout",
     "output_type": "stream",
     "text": [
      "213/213 [==============================] - 22s 103ms/step\n"
     ]
    }
   ],
   "source": [
    "result = model.evaluate_generator(valid_batch, verbose=1)"
   ]
  },
  {
   "cell_type": "code",
   "execution_count": 87,
   "metadata": {},
   "outputs": [
    {
     "name": "stdout",
     "output_type": "stream",
     "text": [
      "Accuracy: 75.1%, Top 3 Accuracy 89.7%\n"
     ]
    }
   ],
   "source": [
    "print('Accuracy: %2.1f%%, Top 3 Accuracy %2.1f%%' % (100*result[1], 100*result[2]))"
   ]
  },
  {
   "cell_type": "code",
   "execution_count": 168,
   "metadata": {},
   "outputs": [],
   "source": [
    "def read_test_df(): \n",
    "    test_df = pd.read_csv('./test_%s.csv'%('simplified'))\n",
    "#     test_id = np.arange(0, len(test_df))\n",
    "    test_id = test_df['key_id'].values.astype(np.int64)\n",
    "\n",
    "    return test_df, test_id"
   ]
  },
  {
   "cell_type": "code",
   "execution_count": 169,
   "metadata": {},
   "outputs": [],
   "source": [
    "test_df, test_id = read_test_df()"
   ]
  },
  {
   "cell_type": "code",
   "execution_count": 160,
   "metadata": {},
   "outputs": [],
   "source": [
    "class TestGenerator(Sequence):\n",
    "    def __init__(self, \n",
    "                 test_df,\n",
    "                 datasplit_id,\n",
    "                 split='test_set',\n",
    "                 augment=null_augment, \n",
    "                 batch_size=128,\n",
    "                 mode='simplified',\n",
    "                 norm=None,\n",
    "                 shuffle=True):\n",
    "        \"\"\" data: could be 'train' or 'test', the former used to get splited dataset train_set or valid_set, \n",
    "                  the latter used to get the TEST_DF\n",
    "        \"\"\"\n",
    "        assert mode in ['simplified', 'raw']\n",
    "        \n",
    "        self.datasplit_id = datasplit_id\n",
    "        self.split = split\n",
    "        self.norm = norm\n",
    "        self.df = test_df\n",
    "        \n",
    "        self.augment = augment\n",
    "        self.batch_size = batch_size\n",
    "        self.mode = mode \n",
    "        self.H, self.W = 64, 64\n",
    "\n",
    "        num_class = len(class_array)\n",
    "\n",
    "        print('')\n",
    "\n",
    "        ### shuffle                    \n",
    "        if shuffle:\n",
    "            np.random.shuffle(self.datasplit_id)\n",
    "        print('\\n')\n",
    "\n",
    "        \n",
    "    def __str__(self):\n",
    "        N = len(self.datasplit_id)\n",
    "        string = ''\\\n",
    "        + '\\tdata         = %s\\n'%self.split \\\n",
    "        + '\\tmode         = %s\\n'%self.mode \\\n",
    "        + '\\tlen(self.datasplit_id) = %d\\n'%N \\\n",
    "        + '\\n'\n",
    "        return string\n",
    "\n",
    "\n",
    "    def __getitem__(self, idx):\n",
    "        if self.split != 'test_set':\n",
    "            l_bound = idx * self.batch_size\n",
    "            r_bound = (idx + 1) * self.batch_size\n",
    "            if r_bound > len(self.datasplit_id):\n",
    "                r_bound = len(self.datasplit_id)\n",
    "                l_bound = r_bound - self.batch_size\n",
    "            instance_count = 0\n",
    "\n",
    "            x_batch = np.zeros((r_bound-l_bound, self.H, self.W, 3))\n",
    "            y_batch = np.zeros((r_bound-l_bound, 340), dtype='uint32')\n",
    "\n",
    "            for instance in self.datasplit_id[l_bound:r_bound]:\n",
    "                label, drawing_id, key_id = instance\n",
    "                drawing = self.full_df[label]['drawing'][drawing_id]\n",
    "                drawing = eval(drawing)\n",
    "\n",
    "                image, label, cache = self.augment(drawing, label, idx)\n",
    "\n",
    "                x_batch[instance_count] = image\n",
    "                y_batch[instance_count, int(label)] = 1\n",
    "\n",
    "                if self.norm != None:\n",
    "                    x_batch[instance_count] = self.norm(image)\n",
    "\n",
    "                instance_count += 1\n",
    "                \n",
    "            return [x_batch, y_batch]\n",
    "            \n",
    "        else:\n",
    "            l_bound = idx * self.batch_size\n",
    "            r_bound = (idx + 1) * self.batch_size\n",
    "            \n",
    "            if r_bound > len(self.datasplit_id):\n",
    "                r_bound = len(self.datasplit_id)\n",
    "                l_bound = r_bound - self.batch_size\n",
    "            instance_count = 0\n",
    "\n",
    "            x_batch = np.zeros((r_bound - l_bound, self.H, self.W, 3))\n",
    "            \n",
    "            for instance in self.datasplit_id[l_bound:r_bound]:\n",
    "                drawing_id = instance\n",
    "                drawing = self.df['drawing'][drawing_id]\n",
    "                drawing = eval(drawing)\n",
    "                \n",
    "                label = None\n",
    "                image, label, cache = self.augment(drawing, label, idx)\n",
    "                \n",
    "                x_batch[instance_count] = image\n",
    "                \n",
    "                if self.norm != None:\n",
    "                    x_batch[instance_count] = self.norm(image)\n",
    "\n",
    "                instance_count += 1\n",
    "\n",
    "            return x_batch\n",
    "\n",
    "\n",
    "    def __len__(self):\n",
    "        return int(np.ceil(len(self.datasplit_id) / self.batch_size))"
   ]
  },
  {
   "cell_type": "code",
   "execution_count": 49,
   "metadata": {},
   "outputs": [],
   "source": [
    "class TestImageGenerator(Sequence):\n",
    "    \n",
    "    def __init__(self,\n",
    "                test_df,\n",
    "                test_id, \n",
    "                augment=null_augment):\n",
    "        \n",
    "        self.df = test_df\n",
    "        self.id = test_id\n",
    "        self.augment = augment\n",
    "        \n",
    "    def __getitem__(self, idx):\n",
    "        \n",
    "        label = None\n",
    "        drawing = self.df['drawing'][idx]\n",
    "        drawing = eval(drawing)\n",
    "        \n",
    "        print((self.augment(drawing, label, idx)[0]).ndim)\n",
    "        return self.augment(drawing, label, idx)[0]\n",
    "    \n",
    "    def __len__(self):\n",
    "        return int(len(self.id))"
   ]
  },
  {
   "cell_type": "code",
   "execution_count": 151,
   "metadata": {},
   "outputs": [],
   "source": [
    "test_x = TestImageGenerator(test_df, test_id)"
   ]
  },
  {
   "cell_type": "code",
   "execution_count": 161,
   "metadata": {},
   "outputs": [
    {
     "name": "stdout",
     "output_type": "stream",
     "text": [
      "\n",
      "\n",
      "\n"
     ]
    }
   ],
   "source": [
    "test_batch = TestGenerator(test_df, test_id, batch_size=1, norm=normalize, shuffle=False)"
   ]
  },
  {
   "cell_type": "code",
   "execution_count": 156,
   "metadata": {},
   "outputs": [
    {
     "data": {
      "text/plain": [
       "1"
      ]
     },
     "execution_count": 156,
     "metadata": {},
     "output_type": "execute_result"
    }
   ],
   "source": [
    "len(test_batch[0])"
   ]
  },
  {
   "cell_type": "code",
   "execution_count": 139,
   "metadata": {},
   "outputs": [
    {
     "data": {
      "text/plain": [
       "10"
      ]
     },
     "execution_count": 139,
     "metadata": {},
     "output_type": "execute_result"
    }
   ],
   "source": [
    "len(test_x)"
   ]
  },
  {
   "cell_type": "code",
   "execution_count": 52,
   "metadata": {},
   "outputs": [
    {
     "name": "stdout",
     "output_type": "stream",
     "text": [
      "3\n"
     ]
    },
    {
     "data": {
      "text/plain": [
       "numpy.ndarray"
      ]
     },
     "execution_count": 52,
     "metadata": {},
     "output_type": "execute_result"
    }
   ],
   "source": [
    "type(test_x[0])"
   ]
  },
  {
   "cell_type": "code",
   "execution_count": 54,
   "metadata": {},
   "outputs": [
    {
     "data": {
      "text/plain": [
       "__main__.TestImageGenerator"
      ]
     },
     "execution_count": 54,
     "metadata": {},
     "output_type": "execute_result"
    }
   ],
   "source": [
    "type(test_x)"
   ]
  },
  {
   "cell_type": "code",
   "execution_count": 37,
   "metadata": {},
   "outputs": [
    {
     "data": {
      "text/plain": [
       "112199"
      ]
     },
     "execution_count": 37,
     "metadata": {},
     "output_type": "execute_result"
    }
   ],
   "source": [
    "len(test_id)"
   ]
  },
  {
   "cell_type": "code",
   "execution_count": 41,
   "metadata": {},
   "outputs": [
    {
     "data": {
      "text/plain": [
       "(1, 64, 64, 3)"
      ]
     },
     "execution_count": 41,
     "metadata": {},
     "output_type": "execute_result"
    }
   ],
   "source": [
    "np.array(test_batch[1]).shape"
   ]
  },
  {
   "cell_type": "code",
   "execution_count": 162,
   "metadata": {},
   "outputs": [
    {
     "data": {
      "image/png": "[encoded data removed]",
      "text/plain": [
       "<Figure size 1152x1152 with 16 Axes>"
      ]
     },
     "metadata": {
      "needs_background": "light"
     },
     "output_type": "display_data"
    }
   ],
   "source": [
    "fig, m_axs = plt.subplots(4, 4, figsize=(16, 16))\n",
    "\n",
    "for i, ax in enumerate(m_axs.flatten()):\n",
    "    img = test_batch[i][0]\n",
    "    ax.imshow(img.astype('float'))"
   ]
  },
  {
   "cell_type": "code",
   "execution_count": 104,
   "metadata": {},
   "outputs": [],
   "source": [
    "test_x = []\n",
    "for i in range(10):\n",
    "    drawing = test_df['drawing'][i]\n",
    "    drawing = eval(drawing)\n",
    "    \n",
    "    img = drawing_to_image(drawing, 64, 64)\n",
    "    img = img / 255.\n",
    "    test_x.append(img)"
   ]
  },
  {
   "cell_type": "code",
   "execution_count": 105,
   "metadata": {},
   "outputs": [],
   "source": [
    "test_x = np.array(test_x)"
   ]
  },
  {
   "cell_type": "code",
   "execution_count": 106,
   "metadata": {},
   "outputs": [
    {
     "name": "stdout",
     "output_type": "stream",
     "text": [
      "\r",
      "10/10 [==============================] - 0s 3ms/step\n"
     ]
    }
   ],
   "source": [
    "result = model.predict(test_x, verbose=True)"
   ]
  },
  {
   "cell_type": "code",
   "execution_count": 92,
   "metadata": {},
   "outputs": [
    {
     "data": {
      "text/plain": [
       "0    [[[17, 18, 20, 25, 137, 174, 242, 249, 251, 25...\n",
       "1    [[[174, 145, 106, 38, 11, 4, 4, 15, 29, 78, 16...\n",
       "2    [[[0, 12, 14, 17, 16, 24, 55, 57, 60, 79, 82, ...\n",
       "3    [[[0, 9, 23, 40, 54, 60, 81, 105, 123, 167, 20...\n",
       "4    [[[87, 82, 71, 63, 66, 92, 96, 95], [220, 218,...\n",
       "5    [[[75, 71, 67, 65, 72, 83], [1, 0, 13, 67, 101...\n",
       "6    [[[11, 130, 132, 124, 109, 81, 76, 76, 94, 117...\n",
       "7    [[[168, 98, 58, 41, 26, 1, 0, 4, 11, 42, 47, 4...\n",
       "8    [[[115, 106, 95, 88, 86, 91, 102, 115, 145, 16...\n",
       "9    [[[20, 48, 160, 164, 167, 161, 145, 103, 93, 9...\n",
       "Name: drawing, dtype: object"
      ]
     },
     "execution_count": 92,
     "metadata": {},
     "output_type": "execute_result"
    }
   ],
   "source": [
    "test_df['drawing'][:10]"
   ]
  },
  {
   "cell_type": "code",
   "execution_count": 108,
   "metadata": {},
   "outputs": [
    {
     "data": {
      "text/plain": [
       "<matplotlib.image.AxesImage at 0x7faf701df0f0>"
      ]
     },
     "execution_count": 108,
     "metadata": {},
     "output_type": "execute_result"
    },
    {
     "data": {
      "image/png": "[encoded data removed]",
      "text/plain": [
       "<Figure size 432x288 with 1 Axes>"
      ]
     },
     "metadata": {
      "needs_background": "light"
     },
     "output_type": "display_data"
    }
   ],
   "source": [
    "plt.imshow(test_x[0].astype('float'))"
   ]
  },
  {
   "cell_type": "code",
   "execution_count": 97,
   "metadata": {},
   "outputs": [
    {
     "data": {
      "text/plain": [
       "<matplotlib.image.AxesImage at 0x7fb00c68c198>"
      ]
     },
     "execution_count": 97,
     "metadata": {},
     "output_type": "execute_result"
    },
    {
     "data": {
      "image/png": "[encoded data removed]",
      "text/plain": [
       "<Figure size 432x288 with 1 Axes>"
      ]
     },
     "metadata": {
      "needs_background": "light"
     },
     "output_type": "display_data"
    }
   ],
   "source": [
    "plt.imshow(test_x[1].astype('uint8'))"
   ]
  },
  {
   "cell_type": "code",
   "execution_count": 109,
   "metadata": {},
   "outputs": [
    {
     "name": "stdout",
     "output_type": "stream",
     "text": [
      "\r",
      "10/10 [==============================] - 0s 3ms/step\n"
     ]
    }
   ],
   "source": [
    "result = model.predict(test_x, verbose=True)"
   ]
  },
  {
   "cell_type": "code",
   "execution_count": 111,
   "metadata": {},
   "outputs": [
    {
     "name": "stdout",
     "output_type": "stream",
     "text": [
      "[237 284 269]\n",
      "[147  39 229]\n",
      "[ 1 65 56]\n",
      "[190 306   0]\n",
      "[ 59 116  87]\n",
      "[113 160 277]\n",
      "[335 154 122]\n",
      "[292  94 331]\n",
      "[ 41 139  11]\n",
      "[154 335 326]\n"
     ]
    }
   ],
   "source": [
    "for r in result:\n",
    "    print(np.argsort(-1*r)[:3])\n",
    "    "
   ]
  },
  {
   "cell_type": "code",
   "execution_count": 113,
   "metadata": {},
   "outputs": [],
   "source": [
    "class_array = np.array(class_array)"
   ]
  },
  {
   "cell_type": "code",
   "execution_count": 115,
   "metadata": {},
   "outputs": [
    {
     "data": {
      "text/plain": [
       "array(['radio', 'stereo', 'snorkel'], dtype='<U23')"
      ]
     },
     "execution_count": 115,
     "metadata": {},
     "output_type": "execute_result"
    }
   ],
   "source": [
    "class_array[[237,284, 269]]"
   ]
  },
  {
   "cell_type": "code",
   "execution_count": 117,
   "metadata": {},
   "outputs": [],
   "source": [
    "top_3_predicition = [class_array[np.argsort(-1*c_pred)[:3]] for c_pred in result]"
   ]
  },
  {
   "cell_type": "code",
   "execution_count": 125,
   "metadata": {},
   "outputs": [],
   "source": [
    "top_3_predicition = np.squeeze(top_3_predicition)\n",
    "top_3_predicition = [' '.join([col.replace(' ', '_') for col in row]) for row in top_3_predicition]"
   ]
  },
  {
   "cell_type": "code",
   "execution_count": 126,
   "metadata": {},
   "outputs": [
    {
     "data": {
      "text/plain": [
       "['radio stereo snorkel',\n",
       " 'hockey_puck bottlecap pool',\n",
       " 'The_Great_Wall_of_China castle camel',\n",
       " 'mountain tent The_Eiffel_Tower',\n",
       " 'campfire fireplace crown',\n",
       " 'fence jail spreadsheet',\n",
       " 'wine_glass hourglass floor_lamp',\n",
       " 'submarine dolphin whale',\n",
       " 'bracelet hand arm',\n",
       " 'hourglass wine_glass vase']"
      ]
     },
     "execution_count": 126,
     "metadata": {},
     "output_type": "execute_result"
    }
   ],
   "source": [
    "top_3_predicition"
   ]
  },
  {
   "cell_type": "code",
   "execution_count": 135,
   "metadata": {},
   "outputs": [
    {
     "data": {
      "image/png": "[encoded data removed]",
      "text/plain": [
       "<Figure size 1152x1152 with 10 Axes>"
      ]
     },
     "metadata": {
      "needs_background": "light"
     },
     "output_type": "display_data"
    }
   ],
   "source": [
    "fig, m_axs = plt.subplots(2, 5, figsize=(16, 16))\n",
    "for i, ax in enumerate(m_axs.flatten()):\n",
    "    img = test_x[i]\n",
    "    ax.imshow(img.astype('float'))\n",
    "    ax.set_title(top_3_predicition[i])"
   ]
  },
  {
   "cell_type": "code",
   "execution_count": null,
   "metadata": {},
   "outputs": [],
   "source": []
  },
  {
   "cell_type": "code",
   "execution_count": null,
   "metadata": {},
   "outputs": [],
   "source": []
  },
  {
   "cell_type": "code",
   "execution_count": 170,
   "metadata": {},
   "outputs": [
    {
     "data": {
      "text/plain": [
       "array([9000003627287624, 9000010688666847, 9000023642890129, ...,\n",
       "       9999968529902445, 9999969540362833, 9999996442242305])"
      ]
     },
     "execution_count": 170,
     "metadata": {},
     "output_type": "execute_result"
    }
   ],
   "source": [
    "test_id"
   ]
  },
  {
   "cell_type": "code",
   "execution_count": 171,
   "metadata": {},
   "outputs": [
    {
     "name": "stdout",
     "output_type": "stream",
     "text": [
      "112199/112199 [==============================] - 1700s 15ms/step\n"
     ]
    }
   ],
   "source": [
    "test_y_preds = model.predict_generator(test_batch, verbose=True)"
   ]
  },
  {
   "cell_type": "code",
   "execution_count": 172,
   "metadata": {},
   "outputs": [],
   "source": [
    "top_3_predicition = [class_array[np.argsort(-1*pred)[:3]] for pred in test_y_preds]"
   ]
  },
  {
   "cell_type": "code",
   "execution_count": 173,
   "metadata": {},
   "outputs": [],
   "source": [
    "top_3_predicition = np.squeeze(top_3_predicition)\n",
    "top_3_predicition = [' '.join([col.replace(' ', '_') for col in row]) for row in top_3_predicition]"
   ]
  },
  {
   "cell_type": "code",
   "execution_count": 176,
   "metadata": {},
   "outputs": [],
   "source": [
    "test_df['word'] = top_3_predicition"
   ]
  },
  {
   "cell_type": "code",
   "execution_count": 177,
   "metadata": {},
   "outputs": [],
   "source": [
    "test_df[['key_id', 'word']].to_csv('submission.csv', index=False)"
   ]
  },
  {
   "cell_type": "code",
   "execution_count": null,
   "metadata": {},
   "outputs": [],
   "source": []
  }
 ],
 "metadata": {
  "kernelspec": {
   "display_name": "Python 3",
   "language": "python",
   "name": "python3"
  },
  "language_info": {
   "codemirror_mode": {
    "name": "ipython",
    "version": 3
   },
   "file_extension": ".py",
   "mimetype": "text/x-python",
   "name": "python",
   "nbconvert_exporter": "python",
   "pygments_lexer": "ipython3",
   "version": "3.6.4"
  }
 },
 "nbformat": 4,
 "nbformat_minor": 2
}
