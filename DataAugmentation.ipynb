{
 "cells": [
  {
   "cell_type": "code",
   "execution_count": 24,
   "metadata": {},
   "outputs": [],
   "source": [
    "import os\n",
    "import nbimporter\n",
    "import pandas as pd\n",
    "import numpy as np\n",
    "import matplotlib.pyplot as plt\n",
    "from scipy.ndimage.interpolation import rotate\n",
    "from DataParserforCNN import read_class\n",
    "from StrokeRemoval import stroke_removal\n",
    "import hull\n",
    "import cv2\n",
    "# from DeformImage import *\n",
    "from keras.utils import Sequence\n",
    "from random import randint\n",
    "from albumentations import Rotate, Flip\n",
    "\n",
    "\n",
    "%matplotlib inline"
   ]
  },
  {
   "cell_type": "code",
   "execution_count": 31,
   "metadata": {},
   "outputs": [],
   "source": [
    "class_array = read_class()\n",
    "base_path = '/Volumes/JS/QuickDraw/train_simplified/'\n",
    "airplane = pd.read_csv(base_path + 'airplane.csv', nrows=25)"
   ]
  },
  {
   "cell_type": "code",
   "execution_count": 65,
   "metadata": {},
   "outputs": [],
   "source": [
    "def mls_rigid_deformation_inv(image, p, q, alpha=1.0, density=1.0):\n",
    "    ''' Rigid inverse deformation\n",
    "    ### Params:\n",
    "        * image - ndarray: original image\n",
    "        * p - ndarray: an array with size [n, 2], original control points\n",
    "        * q - ndarray: an array with size [n, 2], final control points\n",
    "        * alpha - float: parameter used by weights\n",
    "        * density - float: density of the grids\n",
    "    ### Return:\n",
    "        A deformed image.\n",
    "    '''\n",
    "    height = image.shape[0]\n",
    "    width = image.shape[1]\n",
    "    # Change (x, y) to (row, col)\n",
    "    q = q[:, [1, 0]]\n",
    "    p = p[:, [1, 0]]\n",
    "\n",
    "    # Make grids on the original image\n",
    "    gridX = np.linspace(0, width, num=int(width*density), endpoint=False)\n",
    "    gridY = np.linspace(0, height, num=int(height*density), endpoint=False)\n",
    "    vy, vx = np.meshgrid(gridX, gridY)\n",
    "    grow = vx.shape[0]  # grid rows\n",
    "    gcol = vx.shape[1]  # grid cols\n",
    "    ctrls = p.shape[0]  # control points\n",
    "\n",
    "    # Compute\n",
    "    reshaped_p = p.reshape(ctrls, 2, 1, 1)                                              # [ctrls, 2, 1, 1]\n",
    "    reshaped_q = q.reshape((ctrls, 2, 1, 1))                                            # [ctrls, 2, 1, 1]\n",
    "    reshaped_v = np.vstack((vx.reshape(1, grow, gcol), vy.reshape(1, grow, gcol)))      # [2, grow, gcol]\n",
    "    \n",
    "    print(np.sum((reshaped_p - reshaped_v) ** 2, axis=1).shape)\n",
    "    \n",
    "    w = 1.0 / np.sum((reshaped_p - reshaped_v) ** 2, axis=1)**alpha                     # [ctrls, grow, gcol]\n",
    "    w[w == np.inf] = 2**31 - 1\n",
    "    pstar = np.sum(w * reshaped_p.transpose(1, 0, 2, 3), axis=1) / np.sum(w, axis=0)    # [2, grow, gcol]\n",
    "    phat = reshaped_p - pstar                                                           # [ctrls, 2, grow, gcol]\n",
    "    qstar = np.sum(w * reshaped_q.transpose(1, 0, 2, 3), axis=1) / np.sum(w, axis=0)    # [2, grow, gcol]\n",
    "    qhat = reshaped_q - qstar                                                           # [ctrls, 2, grow, gcol]\n",
    "    reshaped_phat1 = phat.reshape(ctrls, 1, 2, grow, gcol)                              # [ctrls, 1, 2, grow, gcol]\n",
    "    reshaped_phat2 = phat.reshape(ctrls, 2, 1, grow, gcol)                              # [ctrls, 2, 1, grow, gcol]\n",
    "    reshaped_qhat = qhat.reshape(ctrls, 1, 2, grow, gcol)                               # [ctrls, 1, 2, grow, gcol]\n",
    "    reshaped_w = w.reshape(ctrls, 1, 1, grow, gcol)                                     # [ctrls, 1, 1, grow, gcol]\n",
    "\n",
    "    mu = np.sum(np.matmul(reshaped_w.transpose(0, 3, 4, 1, 2) * \n",
    "                          reshaped_phat1.transpose(0, 3, 4, 1, 2), \n",
    "                          reshaped_phat2.transpose(0, 3, 4, 1, 2)), axis=0)             # [grow, gcol, 1, 1]\n",
    "    reshaped_mu = mu.reshape(1, grow, gcol)                                             # [1, grow, gcol]\n",
    "    neg_phat_verti = phat[:, [1, 0],...]                                                # [ctrls, 2, grow, gcol]\n",
    "    neg_phat_verti[:, 1,...] = -neg_phat_verti[:, 1,...]                                \n",
    "    reshaped_neg_phat_verti = neg_phat_verti.reshape(ctrls, 1, 2, grow, gcol)           # [ctrls, 1, 2, grow, gcol]\n",
    "    mul_right = np.concatenate((reshaped_phat1, reshaped_neg_phat_verti), axis=1)       # [ctrls, 2, 2, grow, gcol]\n",
    "    mul_left = reshaped_qhat * reshaped_w                                               # [ctrls, 1, 2, grow, gcol]\n",
    "    Delta = np.sum(np.matmul(mul_left.transpose(0, 3, 4, 1, 2), \n",
    "                             mul_right.transpose(0, 3, 4, 1, 2)), \n",
    "                   axis=0).transpose(0, 1, 3, 2)                                        # [grow, gcol, 2, 1]\n",
    "    Delta_verti = Delta[...,[1, 0],:]                                                   # [grow, gcol, 2, 1]\n",
    "    Delta_verti[...,0,:] = -Delta_verti[...,0,:]\n",
    "    B = np.concatenate((Delta, Delta_verti), axis=3)                                    # [grow, gcol, 2, 2]\n",
    "    try:\n",
    "        inv_B = np.linalg.inv(B)                                                        # [grow, gcol, 2, 2]\n",
    "        flag = False\n",
    "    except np.linalg.linalg.LinAlgError:\n",
    "        flag = True\n",
    "        det = np.linalg.det(B)                                                          # [grow, gcol]\n",
    "        det[det < 1e-8] = np.inf\n",
    "        reshaped_det = det.reshape(grow, gcol, 1, 1)                                    # [grow, gcol, 1, 1]\n",
    "        adjoint = B[:,:,[[1, 0], [1, 0]], [[1, 1], [0, 0]]]                             # [grow, gcol, 2, 2]\n",
    "        adjoint[:,:,[0, 1], [1, 0]] = -adjoint[:,:,[0, 1], [1, 0]]                      # [grow, gcol, 2, 2]\n",
    "        inv_B = (adjoint / reshaped_det).transpose(2, 3, 0, 1)                          # [2, 2, grow, gcol]\n",
    "\n",
    "    vqstar = reshaped_v - qstar                                                         # [2, grow, gcol]\n",
    "    reshaped_vqstar = vqstar.reshape(1, 2, grow, gcol)                                  # [1, 2, grow, gcol]\n",
    "\n",
    "    # Get final image transfomer -- 3-D array\n",
    "    temp = np.matmul(reshaped_vqstar.transpose(2, 3, 0, 1),\n",
    "                     inv_B).reshape(grow, gcol, 2).transpose(2, 0, 1)                   # [2, grow, gcol]\n",
    "    norm_temp = np.linalg.norm(temp, axis=0, keepdims=True)                             # [1, grow, gcol]\n",
    "    norm_vqstar = np.linalg.norm(vqstar, axis=0, keepdims=True)                         # [1, grow, gcol]\n",
    "    transformers = temp / norm_temp * norm_vqstar + pstar                               # [2, grow, gcol]\n",
    "\n",
    "    # Correct the points where pTwp is singular\n",
    "    if flag:\n",
    "        blidx = det == np.inf    # bool index\n",
    "        transformers[0][blidx] = vx[blidx] + qstar[0][blidx] - pstar[0][blidx]\n",
    "        transformers[1][blidx] = vy[blidx] + qstar[1][blidx] - pstar[1][blidx]\n",
    "\n",
    "    # Removed the points outside the border\n",
    "    transformers[transformers < 0] = 0\n",
    "    transformers[0][transformers[0] > height - 1] = 0\n",
    "    transformers[1][transformers[1] > width - 1] = 0\n",
    "\n",
    "    # Mapping original image\n",
    "    transformed_image = image[tuple(transformers.astype(np.int16))]    # [grow, gcol]\n",
    "\n",
    "    # Rescale image\n",
    "    transformed_image = rescale(transformed_image, scale=1.0 / density, mode='reflect')\n",
    "\n",
    "    return transformed_image"
   ]
  },
  {
   "cell_type": "code",
   "execution_count": 33,
   "metadata": {},
   "outputs": [],
   "source": [
    "def null_augment(drawing, label, index):\n",
    "    image, _ = drawing_to_image(drawing, 64, 64)\n",
    "    return image, label\n",
    "\n",
    "def flip_augment(drawing, label, index):\n",
    "    image, _ = drawing_to_image(drawing, 64, 64)\n",
    "    image = np.fliplr(image)\n",
    "    return image, label\n",
    "    \n",
    "def normalize(image):\n",
    "    return image / 255.\n",
    "\n",
    "def read_class():\n",
    "    CLASS_NAME = []\n",
    "    with open('./classes.txt', 'r') as class_file:\n",
    "        for i, line in enumerate(class_file):\n",
    "            line = line.rstrip('\\n')\n",
    "            CLASS_NAME.append(line)\n",
    "    return CLASS_NAME\n",
    "\n",
    "def globaldeformation(drawing, sigma=5):\n",
    "    image, coords = drawing_to_image(drawing, 64, 64)\n",
    "    hull_x, hull_y = np.array(hull.convex(coords)).T\n",
    "    choose_four = [np.argsort(hull_x)[0], np.argsort(hull_x)[-1], \n",
    "                   np.argsort(hull_y)[0], np.argsort(hull_y)[-1]]\n",
    "    p = []\n",
    "    for i in choose_four:\n",
    "        p.append([hull_x[i], hull_y[i]])\n",
    "    p_x, p_y = np.array(p).T\n",
    "    p = np.array(list(zip(p_x, p_y)))\n",
    "    noise_x = np.random.normal(0, sigma, 4)\n",
    "    noise_y = np.random.normal(0, sigma, 4)\n",
    "    x_with_noise = p_x + noise_x\n",
    "    y_with_noise = p_y + noise_y\n",
    "    x_with_noise = [int(min(max(0, x), 64)) for x in x_with_noise]\n",
    "    y_with_noise = [int(min(max(0, y), 64)) for y in y_with_noise]\n",
    "    q = np.array(list(zip(x_with_noise, y_with_noise)))\n",
    "    \n",
    "    print('p', p)\n",
    "    print('q', q)\n",
    "    \n",
    "    new_img = mls_rigid_deformation_inv(image, p, q)\n",
    "    new_img = np.array(new_img*255)\n",
    "    new_img.astype('uint')\n",
    "    return new_img"
   ]
  },
  {
   "cell_type": "code",
   "execution_count": 34,
   "metadata": {},
   "outputs": [],
   "source": [
    "def random_augment(drawing, label, index):\n",
    "    number = randint(1, 5)\n",
    "    print(number)\n",
    "    if number == 5:   # remove strokes\n",
    "        drawing = stroke_removal(drawing, percent=0.35)\n",
    "    image, _ = drawing_to_image(drawing, 64, 64)\n",
    "\n",
    "    if number == 1:  # null augment\n",
    "        image = image\n",
    "    elif number == 2:      # random flip \n",
    "        image = Flip(p=1)(image=image)['image']\n",
    "    elif number == 3:      # random rotate\n",
    "        image = Rotate(p=1, border_mode=cv2.BORDER_CONSTANT)(image=image)['image']\n",
    "    elif number == 4:   # hull augment\n",
    "        image = globaldeformation(drawing)\n",
    "    return image, label"
   ]
  },
  {
   "cell_type": "code",
   "execution_count": 35,
   "metadata": {},
   "outputs": [],
   "source": [
    "def drawing_to_image(drawing, H, W):\n",
    "\n",
    "    point=[]\n",
    "    time =[]\n",
    "    \n",
    "    for t,(x,y) in enumerate(drawing):\n",
    "        point.append(np.array((x,y),np.float32).T)\n",
    "        time.append(np.full(len(x),t))\n",
    "\n",
    "    point = np.concatenate(point).astype(np.float32)\n",
    "    time  = np.concatenate(time).astype(np.int32)\n",
    "    \n",
    "    coords = []\n",
    "    \n",
    "    image  = np.full((H,W,3),0,np.uint8)\n",
    "    x_max = point[:,0].max()\n",
    "    x_min = point[:,0].min()\n",
    "    y_max = point[:,1].max()\n",
    "    y_min = point[:,1].min()\n",
    "    w = x_max-x_min\n",
    "    h = y_max-y_min\n",
    "    #print(w,h)\n",
    "\n",
    "    s = max(w,h)\n",
    "    norm_point = (point-[x_min,y_min])/s\n",
    "    norm_point = (norm_point-[w/s*0.5,h/s*0.5])*max(W,H)*0.85\n",
    "    norm_point = np.floor(norm_point + [W/2,H/2]).astype(np.int32)\n",
    "\n",
    "    T = time.max()+1\n",
    "    for t in range(T):\n",
    "        p = norm_point[time==t]\n",
    "        x,y = p.T\n",
    "        image[y,x]=255\n",
    "        N = len(p)\n",
    "        for i in range(N-1):\n",
    "            x0,y0 = p[i]\n",
    "            x1,y1 = p[i+1]\n",
    "            coords.append((x0, y0))\n",
    "            cv2.line(image,(x0,y0),(x1,y1),(255,255,255),1,cv2.LINE_AA)\n",
    "        coords.append((x1, y1))\n",
    "\n",
    "    return image, coords"
   ]
  },
  {
   "cell_type": "code",
   "execution_count": 37,
   "metadata": {},
   "outputs": [],
   "source": [
    "class ImageBatchGenerator(Sequence):\n",
    "    def __init__(self, \n",
    "                 class_array,\n",
    "                 full_df,\n",
    "                 datasplit_id,\n",
    "                 split='train_set',\n",
    "                 batch_size=128, \n",
    "                 augment=null_augment, \n",
    "                 mode='simplified',\n",
    "                 norm=None,\n",
    "                 shuffle=True):\n",
    "        \"\"\" data: could be 'train' or 'test', the former used to get splited dataset train_set or valid_set, \n",
    "                  the latter used to get the TEST_DF\n",
    "        \"\"\"\n",
    "        assert mode in ['simplified', 'raw']\n",
    "        \n",
    "        self.class_array = class_array\n",
    "        self.full_df = full_df\n",
    "        self.datasplit_id = datasplit_id\n",
    "        self.split = split\n",
    "        self.norm = norm\n",
    "        \n",
    "        self.batch_size = batch_size\n",
    "        self.augment = augment\n",
    "        self.mode = mode \n",
    "        self.H, self.W = 64, 64\n",
    "\n",
    "        num_class = len(class_array)\n",
    "        \n",
    "\n",
    "        ### shuffle                    \n",
    "        if shuffle:\n",
    "            np.random.shuffle(self.datasplit_id)\n",
    "        print('\\n')\n",
    "\n",
    "        \n",
    "    def __str__(self):\n",
    "        N = len(self.datasplit_id)\n",
    "        string = ''\\\n",
    "        + '\\tdata         = %s\\n'%self.split \\\n",
    "        + '\\tmode         = %s\\n'%self.mode \\\n",
    "        + '\\tlen(self.datasplit_id) = %d\\n'%N \\\n",
    "        + '\\n'\n",
    "        return string\n",
    "\n",
    "\n",
    "    def __getitem__(self, idx):\n",
    "        if self.split != 'test_set':\n",
    "            l_bound = idx * self.batch_size\n",
    "            r_bound = (idx + 1) * self.batch_size\n",
    "            if r_bound > len(self.datasplit_id):\n",
    "                r_bound = len(self.datasplit_id)\n",
    "                l_bound = r_bound - self.batch_size\n",
    "            instance_count = 0\n",
    "\n",
    "            x_batch = np.zeros((r_bound-l_bound, self.H, self.W, 3))\n",
    "            y_batch = np.zeros((r_bound-l_bound, 340), dtype='uint32')\n",
    "\n",
    "            for instance in self.datasplit_id[l_bound:r_bound]:\n",
    "                label, drawing_id, key_id = instance\n",
    "                drawing = self.full_df[label]['drawing'][drawing_id]\n",
    "                drawing = eval(drawing)\n",
    "\n",
    "                image, label = self.augment(drawing, label, idx)\n",
    "\n",
    "                x_batch[instance_count] = image\n",
    "                y_batch[instance_count, int(label)] = 1\n",
    "\n",
    "                if self.norm != None:\n",
    "                    x_batch[instance_count] = self.norm(image)\n",
    "\n",
    "                instance_count += 1\n",
    "        else:\n",
    "            pass\n",
    "\n",
    "        return [x_batch, y_batch]\n",
    "\n",
    "        if self.data == 'test':\n",
    "            label=None\n",
    "            drawing = self.df['drawing'][idx]\n",
    "            drawing = eval(drawing)\n",
    "\n",
    "        return self.augment(drawing, label, idx)\n",
    "\n",
    "\n",
    "    def __len__(self):\n",
    "        return int(np.ceil(len(self.datasplit_id) / self.batch_size))"
   ]
  },
  {
   "cell_type": "code",
   "execution_count": 38,
   "metadata": {},
   "outputs": [],
   "source": [
    "train_id = []\n",
    "df = []\n",
    "df.append(airplane)\n",
    "key_id = airplane['key_id']\n",
    "label = np.full(len(key_id), 0, dtype=np.int64)\n",
    "drawing_id = airplane.loc[airplane['key_id'].isin(key_id)].index.values\n",
    "train_id.extend(np.vstack([label, drawing_id, key_id]).T)"
   ]
  },
  {
   "cell_type": "code",
   "execution_count": 54,
   "metadata": {},
   "outputs": [
    {
     "name": "stdout",
     "output_type": "stream",
     "text": [
      "\n",
      "\n"
     ]
    }
   ],
   "source": [
    "train_batch = ImageBatchGenerator(class_array=class_array,\n",
    "                                  full_df=df,\n",
    "                                  datasplit_id=train_id,\n",
    "                                  split='train_set',\n",
    "                                  batch_size=16, \n",
    "                                  augment=null_augment, \n",
    "                                  mode='simplified', \n",
    "                                  norm=normalize,\n",
    "                                  shuffle=False)"
   ]
  },
  {
   "cell_type": "code",
   "execution_count": 55,
   "metadata": {},
   "outputs": [
    {
     "data": {
      "text/plain": [
       "2"
      ]
     },
     "execution_count": 55,
     "metadata": {},
     "output_type": "execute_result"
    }
   ],
   "source": [
    "len(train_batch)"
   ]
  },
  {
   "cell_type": "code",
   "execution_count": 56,
   "metadata": {},
   "outputs": [
    {
     "data": {
      "text/plain": [
       "16"
      ]
     },
     "execution_count": 56,
     "metadata": {},
     "output_type": "execute_result"
    }
   ],
   "source": [
    "len(train_batch[0][0])"
   ]
  },
  {
   "cell_type": "code",
   "execution_count": 59,
   "metadata": {},
   "outputs": [],
   "source": [
    "def draw_a_batch(train_batch, batch_size=4):\n",
    "    fig, m_axs = plt.subplots(1, 4, figsize=(16, 16))\n",
    "\n",
    "    for i, ax in enumerate(m_axs.flatten()):\n",
    "        img = train_batch[0][0][i]\n",
    "        ax.imshow(img.astype('float'))"
   ]
  },
  {
   "cell_type": "code",
   "execution_count": 60,
   "metadata": {
    "scrolled": false
   },
   "outputs": [
    {
     "data": {
      "image/png": "[encoded data removed]",
      "text/plain": [
       "<matplotlib.figure.Figure at 0x13c10dac8>"
      ]
     },
     "metadata": {},
     "output_type": "display_data"
    }
   ],
   "source": [
    "draw_a_batch(train_batch)"
   ]
  },
  {
   "cell_type": "code",
   "execution_count": 61,
   "metadata": {},
   "outputs": [
    {
     "name": "stdout",
     "output_type": "stream",
     "text": [
      "\n",
      "\n"
     ]
    }
   ],
   "source": [
    "train_batch_2 = ImageBatchGenerator(class_array=class_array,\n",
    "                                  full_df=df,\n",
    "                                  datasplit_id=train_id,\n",
    "                                  split='train_set',\n",
    "                                  batch_size=4, \n",
    "                                  augment=random_augment, \n",
    "                                  mode='simplified', \n",
    "                                  norm=normalize,\n",
    "                                  shuffle=False)"
   ]
  },
  {
   "cell_type": "code",
   "execution_count": 62,
   "metadata": {
    "scrolled": false
   },
   "outputs": [
    {
     "name": "stdout",
     "output_type": "stream",
     "text": [
      "1\n",
      "1\n",
      "2\n",
      "5\n",
      "4\n",
      "p [[ 4 39]\n",
      " [59 30]\n",
      " [15  7]\n",
      " [11 56]]\n",
      "q [[ 0 44]\n",
      " [57 26]\n",
      " [24 15]\n",
      " [13 49]]\n",
      "[[[1537. 1530. 1525. ... 4770. 4885. 5002.]\n",
      "  [1460. 1453. 1448. ... 4693. 4808. 4925.]\n",
      "  [1385. 1378. 1373. ... 4618. 4733. 4850.]\n",
      "  ...\n",
      "  [ 500.  493.  488. ... 3733. 3848. 3965.]\n",
      "  [ 545.  538.  533. ... 3778. 3893. 4010.]\n",
      "  [ 592.  585.  580. ... 3825. 3940. 4057.]]\n",
      "\n",
      " [[4381. 4264. 4149. ...  904.  909.  916.]\n",
      "  [4322. 4205. 4090. ...  845.  850.  857.]\n",
      "  [4265. 4148. 4033. ...  788.  793.  800.]\n",
      "  ...\n",
      "  [4442. 4325. 4210. ...  965.  970.  977.]\n",
      "  [4505. 4388. 4273. ... 1028. 1033. 1040.]\n",
      "  [4570. 4453. 4338. ... 1093. 1098. 1105.]]\n",
      "\n",
      " [[ 274.  245.  218. ... 2165. 2258. 2353.]\n",
      "  [ 261.  232.  205. ... 2152. 2245. 2340.]\n",
      "  [ 250.  221.  194. ... 2141. 2234. 2329.]\n",
      "  ...\n",
      "  [3141. 3112. 3085. ... 5032. 5125. 5220.]\n",
      "  [3250. 3221. 3194. ... 5141. 5234. 5329.]\n",
      "  [3361. 3332. 3305. ... 5252. 5345. 5440.]]\n",
      "\n",
      " [[3257. 3236. 3217. ... 5636. 5737. 5840.]\n",
      "  [3146. 3125. 3106. ... 5525. 5626. 5729.]\n",
      "  [3037. 3016. 2997. ... 5416. 5517. 5620.]\n",
      "  ...\n",
      "  [ 146.  125.  106. ... 2525. 2626. 2729.]\n",
      "  [ 157.  136.  117. ... 2536. 2637. 2740.]\n",
      "  [ 170.  149.  130. ... 2549. 2650. 2753.]]]\n",
      "2\n",
      "5\n",
      "1\n",
      "3\n",
      "5\n",
      "2\n",
      "5\n",
      "1\n",
      "2\n",
      "3\n",
      "1\n"
     ]
    },
    {
     "name": "stderr",
     "output_type": "stream",
     "text": [
      "/Library/Frameworks/Python.framework/Versions/3.6/lib/python3.6/site-packages/ipykernel_launcher.py:33: RuntimeWarning: divide by zero encountered in true_divide\n"
     ]
    },
    {
     "data": {
      "image/png": "[encoded data removed]",
      "text/plain": [
       "<matplotlib.figure.Figure at 0x13c281dd8>"
      ]
     },
     "metadata": {},
     "output_type": "display_data"
    }
   ],
   "source": [
    "draw_a_batch(train_batch_2)"
   ]
  },
  {
   "cell_type": "code",
   "execution_count": 66,
   "metadata": {},
   "outputs": [
    {
     "name": "stdout",
     "output_type": "stream",
     "text": [
      "3\n",
      "1\n",
      "1\n",
      "4\n",
      "p [[ 4 34]\n",
      " [59 32]\n",
      " [30  9]\n",
      " [24 54]]\n",
      "q [[ 1 36]\n",
      " [50 35]\n",
      " [32 13]\n",
      " [33 52]]\n",
      "(4, 64, 64)\n"
     ]
    },
    {
     "name": "stderr",
     "output_type": "stream",
     "text": [
      "/Library/Frameworks/Python.framework/Versions/3.6/lib/python3.6/site-packages/ipykernel_launcher.py:33: RuntimeWarning: divide by zero encountered in true_divide\n"
     ]
    },
    {
     "data": {
      "text/plain": [
       "array([[[0., 0., 0.],\n",
       "        [0., 0., 0.],\n",
       "        [0., 0., 0.],\n",
       "        ...,\n",
       "        [0., 0., 0.],\n",
       "        [0., 0., 0.],\n",
       "        [0., 0., 0.]],\n",
       "\n",
       "       [[0., 0., 0.],\n",
       "        [0., 0., 0.],\n",
       "        [0., 0., 0.],\n",
       "        ...,\n",
       "        [0., 0., 0.],\n",
       "        [0., 0., 0.],\n",
       "        [0., 0., 0.]],\n",
       "\n",
       "       [[0., 0., 0.],\n",
       "        [0., 0., 0.],\n",
       "        [0., 0., 0.],\n",
       "        ...,\n",
       "        [0., 0., 0.],\n",
       "        [0., 0., 0.],\n",
       "        [0., 0., 0.]],\n",
       "\n",
       "       ...,\n",
       "\n",
       "       [[0., 0., 0.],\n",
       "        [0., 0., 0.],\n",
       "        [0., 0., 0.],\n",
       "        ...,\n",
       "        [0., 0., 0.],\n",
       "        [0., 0., 0.],\n",
       "        [0., 0., 0.]],\n",
       "\n",
       "       [[0., 0., 0.],\n",
       "        [0., 0., 0.],\n",
       "        [0., 0., 0.],\n",
       "        ...,\n",
       "        [0., 0., 0.],\n",
       "        [0., 0., 0.],\n",
       "        [0., 0., 0.]],\n",
       "\n",
       "       [[0., 0., 0.],\n",
       "        [0., 0., 0.],\n",
       "        [0., 0., 0.],\n",
       "        ...,\n",
       "        [0., 0., 0.],\n",
       "        [0., 0., 0.],\n",
       "        [0., 0., 0.]]])"
      ]
     },
     "execution_count": 66,
     "metadata": {},
     "output_type": "execute_result"
    }
   ],
   "source": [
    "train_batch_2[0][0][2]"
   ]
  },
  {
   "cell_type": "code",
   "execution_count": null,
   "metadata": {},
   "outputs": [],
   "source": []
  }
 ],
 "metadata": {
  "kernelspec": {
   "display_name": "Python 3",
   "language": "python",
   "name": "python3"
  },
  "language_info": {
   "codemirror_mode": {
    "name": "ipython",
    "version": 3
   },
   "file_extension": ".py",
   "mimetype": "text/x-python",
   "name": "python",
   "nbconvert_exporter": "python",
   "pygments_lexer": "ipython3",
   "version": "3.6.4"
  }
 },
 "nbformat": 4,
 "nbformat_minor": 2
}
