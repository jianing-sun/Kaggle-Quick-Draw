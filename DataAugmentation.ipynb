{
 "cells": [
  {
   "cell_type": "code",
   "execution_count": 1,
   "metadata": {},
   "outputs": [
    {
     "name": "stdout",
     "output_type": "stream",
     "text": [
      "Importing Jupyter notebook from DataParserforCNN.ipynb\n"
     ]
    },
    {
     "name": "stderr",
     "output_type": "stream",
     "text": [
      "Using TensorFlow backend.\n"
     ]
    },
    {
     "name": "stdout",
     "output_type": "stream",
     "text": [
      "Importing Jupyter notebook from StrokeRemoval.ipynb\n",
      "Importing Jupyter notebook from hull.ipynb\n",
      "Importing Jupyter notebook from DeformImage.ipynb\n"
     ]
    }
   ],
   "source": [
    "import os\n",
    "import nbimporter\n",
    "import pandas as pd\n",
    "import numpy as np\n",
    "import matplotlib.pyplot as plt\n",
    "from scipy.ndimage.interpolation import rotate\n",
    "from DataParserforCNN import read_class\n",
    "from StrokeRemoval import stroke_removal\n",
    "import hull\n",
    "import cv2\n",
    "from DeformImage import *\n",
    "from keras.utils import Sequence\n",
    "from random import randint\n",
    "from albumentations import Rotate, Flip\n",
    "\n",
    "\n",
    "%matplotlib inline"
   ]
  },
  {
   "cell_type": "code",
   "execution_count": 10,
   "metadata": {},
   "outputs": [],
   "source": [
    "class_array = read_class()\n",
    "base_path = '/Volumes/JS/QuickDraw/train_simplified/'\n",
    "airplane = pd.read_csv(base_path + 'airplane.csv', nrows=100)"
   ]
  },
  {
   "cell_type": "code",
   "execution_count": 70,
   "metadata": {},
   "outputs": [],
   "source": [
    "def null_augment(drawing, label, index):\n",
    "    image, _ = drawing_to_image(drawing, 64, 64)\n",
    "    return image, label\n",
    "\n",
    "def flip_augment(drawing, label, index):\n",
    "    image, _ = drawing_to_image(drawing, 64, 64)\n",
    "    image = np.fliplr(image)\n",
    "    return image, label\n",
    "\n",
    "def random_augment(drawing, label, index):\n",
    "    number = randint(1, 5)\n",
    "    if number == 5:   # remove strokes\n",
    "        drawing = stroke_removal(drawing, percent=0.35)\n",
    "    image, _ = drawing_to_image(drawing, 64, 64)\n",
    "\n",
    "    if number == 1:  # null augment\n",
    "        image = image\n",
    "    elif number == 2:      # random flip \n",
    "        image = Flip(p=1)(image=image)['image']\n",
    "    elif number == 3:      # random rotate\n",
    "        image = Rotate(p=1, border_mode=cv2.BORDER_CONSTANT)(image=image)['image']\n",
    "    elif number == 4:   # hull augment\n",
    "        image = globaldeformation(drawing)\n",
    "    return image, label\n",
    "    \n",
    "def normalize(image):\n",
    "    return image / 255.\n",
    "\n",
    "def read_class():\n",
    "    CLASS_NAME = []\n",
    "    with open('./classes.txt', 'r') as class_file:\n",
    "        for i, line in enumerate(class_file):\n",
    "            line = line.rstrip('\\n')\n",
    "            CLASS_NAME.append(line)\n",
    "    return CLASS_NAME\n",
    "\n",
    "def globaldeformation(drawing, sigma=3):\n",
    "    image, coords = drawing_to_image(drawing, 64, 64)\n",
    "    hull_x, hull_y = np.array(hull.convex(coords)).T\n",
    "    choose_four = [np.argsort(hull_x)[0], np.argsort(hull_x)[-1], \n",
    "                   np.argsort(hull_y)[0], np.argsort(hull_y)[-1]]\n",
    "    p = []\n",
    "    for i in choose_four:\n",
    "        p.append([hull_x[i], hull_y[i]])\n",
    "    p_x, p_y = np.array(p).T\n",
    "    p = np.array(list(zip(p_x, p_y)))\n",
    "    sigma=5\n",
    "    noise_x = np.random.normal(0, sigma, 4)\n",
    "    noise_y = np.random.normal(0, sigma, 4)\n",
    "    x_with_noise = p_x + noise_x\n",
    "    y_with_noise = p_y + noise_y\n",
    "    x_with_noise = [int(min(max(0, x), 64)) for x in x_with_noise]\n",
    "    y_with_noise = [int(min(max(0, y), 64)) for y in y_with_noise]\n",
    "    q = np.array(list(zip(x_with_noise, y_with_noise)))\n",
    "    new_img = mls_rigid_deformation_inv(image, p, q)\n",
    "    new_img = np.array(new_img*255)\n",
    "    new_img.astype('uint')\n",
    "    return new_img"
   ]
  },
  {
   "cell_type": "code",
   "execution_count": 71,
   "metadata": {},
   "outputs": [],
   "source": [
    "def drawing_to_image(drawing, H, W):\n",
    "\n",
    "    point=[]\n",
    "    time =[]\n",
    "    \n",
    "    for t,(x,y) in enumerate(drawing):\n",
    "        point.append(np.array((x,y),np.float32).T)\n",
    "        time.append(np.full(len(x),t))\n",
    "\n",
    "    point = np.concatenate(point).astype(np.float32)\n",
    "    time  = np.concatenate(time).astype(np.int32)\n",
    "    \n",
    "    coords = []\n",
    "    \n",
    "    image  = np.full((H,W,3),0,np.uint8)\n",
    "    x_max = point[:,0].max()\n",
    "    x_min = point[:,0].min()\n",
    "    y_max = point[:,1].max()\n",
    "    y_min = point[:,1].min()\n",
    "    w = x_max-x_min\n",
    "    h = y_max-y_min\n",
    "    #print(w,h)\n",
    "\n",
    "    s = max(w,h)\n",
    "    norm_point = (point-[x_min,y_min])/s\n",
    "    norm_point = (norm_point-[w/s*0.5,h/s*0.5])*max(W,H)*0.85\n",
    "    norm_point = np.floor(norm_point + [W/2,H/2]).astype(np.int32)\n",
    "\n",
    "    T = time.max()+1\n",
    "    for t in range(T):\n",
    "        p = norm_point[time==t]\n",
    "        x,y = p.T\n",
    "        image[y,x]=255\n",
    "        N = len(p)\n",
    "        for i in range(N-1):\n",
    "            x0,y0 = p[i]\n",
    "            x1,y1 = p[i+1]\n",
    "            coords.append((x0, y0))\n",
    "            cv2.line(image,(x0,y0),(x1,y1),(255,255,255),1,cv2.LINE_AA)\n",
    "        coords.append((x1, y1))\n",
    "\n",
    "    return image, coords"
   ]
  },
  {
   "cell_type": "code",
   "execution_count": 72,
   "metadata": {},
   "outputs": [],
   "source": [
    "class ImageBatchGenerator(Sequence):\n",
    "    def __init__(self, \n",
    "                 class_array,\n",
    "                 full_df,\n",
    "                 datasplit_id,\n",
    "                 split='train_set',\n",
    "                 batch_size=128, \n",
    "                 augment=null_augment, \n",
    "                 mode='simplified',\n",
    "                 norm=None,\n",
    "                 shuffle=True):\n",
    "        \"\"\" data: could be 'train' or 'test', the former used to get splited dataset train_set or valid_set, \n",
    "                  the latter used to get the TEST_DF\n",
    "        \"\"\"\n",
    "        assert mode in ['simplified', 'raw']\n",
    "        \n",
    "        self.class_array = class_array\n",
    "        self.full_df = full_df\n",
    "        self.datasplit_id = datasplit_id\n",
    "        self.split = split\n",
    "        self.norm = norm\n",
    "        \n",
    "        self.batch_size = batch_size\n",
    "        self.augment = augment\n",
    "        self.mode = mode \n",
    "        self.H, self.W = 64, 64\n",
    "\n",
    "        num_class = len(class_array)\n",
    "        \n",
    "\n",
    "        ### shuffle                    \n",
    "        if shuffle:\n",
    "            np.random.shuffle(self.datasplit_id)\n",
    "        print('\\n')\n",
    "\n",
    "        \n",
    "    def __str__(self):\n",
    "        N = len(self.datasplit_id)\n",
    "        string = ''\\\n",
    "        + '\\tdata         = %s\\n'%self.split \\\n",
    "        + '\\tmode         = %s\\n'%self.mode \\\n",
    "        + '\\tlen(self.datasplit_id) = %d\\n'%N \\\n",
    "        + '\\n'\n",
    "        return string\n",
    "\n",
    "\n",
    "    def __getitem__(self, idx):\n",
    "        if self.split != 'test_set':\n",
    "            l_bound = idx * self.batch_size\n",
    "            r_bound = (idx + 1) * self.batch_size\n",
    "            if r_bound > len(self.datasplit_id):\n",
    "                r_bound = len(self.datasplit_id)\n",
    "                l_bound = r_bound - self.batch_size\n",
    "            instance_count = 0\n",
    "\n",
    "            x_batch = np.zeros((r_bound-l_bound, self.H, self.W, 3))\n",
    "            y_batch = np.zeros((r_bound-l_bound, 340), dtype='uint32')\n",
    "\n",
    "            for instance in self.datasplit_id[l_bound:r_bound]:\n",
    "                label, drawing_id, key_id = instance\n",
    "                drawing = self.full_df[label]['drawing'][drawing_id]\n",
    "                drawing = eval(drawing)\n",
    "\n",
    "                image, label = self.augment(drawing, label, idx)\n",
    "\n",
    "                x_batch[instance_count] = image\n",
    "                y_batch[instance_count, int(label)] = 1\n",
    "\n",
    "                if self.norm != None:\n",
    "                    x_batch[instance_count] = self.norm(image)\n",
    "\n",
    "                instance_count += 1\n",
    "        else:\n",
    "            pass\n",
    "\n",
    "        return [x_batch, y_batch]\n",
    "\n",
    "        if self.data == 'test':\n",
    "            label=None\n",
    "            drawing = self.df['drawing'][idx]\n",
    "            drawing = eval(drawing)\n",
    "\n",
    "        return self.augment(drawing, label, idx)\n",
    "\n",
    "\n",
    "    def __len__(self):\n",
    "        return int(np.ceil(len(self.datasplit_id) / self.batch_size))"
   ]
  },
  {
   "cell_type": "code",
   "execution_count": 73,
   "metadata": {},
   "outputs": [],
   "source": [
    "train_id = []\n",
    "df = []\n",
    "df.append(airplane)\n",
    "key_id = airplane['key_id']\n",
    "label = np.full(len(key_id), 0, dtype=np.int64)\n",
    "drawing_id = airplane.loc[airplane['key_id'].isin(key_id)].index.values\n",
    "train_id.extend(np.vstack([label, drawing_id, key_id]).T)"
   ]
  },
  {
   "cell_type": "code",
   "execution_count": 74,
   "metadata": {},
   "outputs": [
    {
     "name": "stdout",
     "output_type": "stream",
     "text": [
      "\n",
      "\n"
     ]
    }
   ],
   "source": [
    "train_batch = ImageBatchGenerator(class_array=class_array,\n",
    "                                  full_df=df,\n",
    "                                  datasplit_id=train_id,\n",
    "                                  split='train_set',\n",
    "                                  batch_size=4, \n",
    "                                  augment=null_augment, \n",
    "                                  mode='simplified', \n",
    "                                  norm=normalize,\n",
    "                                  shuffle=False)"
   ]
  },
  {
   "cell_type": "code",
   "execution_count": 75,
   "metadata": {},
   "outputs": [
    {
     "data": {
      "text/plain": [
       "25"
      ]
     },
     "execution_count": 75,
     "metadata": {},
     "output_type": "execute_result"
    }
   ],
   "source": [
    "len(train_batch)"
   ]
  },
  {
   "cell_type": "code",
   "execution_count": 76,
   "metadata": {},
   "outputs": [
    {
     "data": {
      "text/plain": [
       "64"
      ]
     },
     "execution_count": 76,
     "metadata": {},
     "output_type": "execute_result"
    }
   ],
   "source": [
    "len(train_batch[0][0][3])"
   ]
  },
  {
   "cell_type": "code",
   "execution_count": 77,
   "metadata": {},
   "outputs": [],
   "source": [
    "def draw_a_batch(train_batch, batch_size=4):\n",
    "    fig, m_axs = plt.subplots(1, 4, figsize=(16, 16))\n",
    "\n",
    "    for i, ax in enumerate(m_axs.flatten()):\n",
    "        img = train_batch[0][0][i]\n",
    "        ax.imshow(img.astype('float'))"
   ]
  },
  {
   "cell_type": "code",
   "execution_count": 78,
   "metadata": {},
   "outputs": [
    {
     "data": {
      "image/png": "[encoded data removed]",
      "text/plain": [
       "<matplotlib.figure.Figure at 0x13b160ef0>"
      ]
     },
     "metadata": {},
     "output_type": "display_data"
    }
   ],
   "source": [
    "draw_a_batch(train_batch)"
   ]
  },
  {
   "cell_type": "code",
   "execution_count": 79,
   "metadata": {},
   "outputs": [
    {
     "name": "stdout",
     "output_type": "stream",
     "text": [
      "\n",
      "\n"
     ]
    }
   ],
   "source": [
    "train_batch_2 = ImageBatchGenerator(class_array=class_array,\n",
    "                                  full_df=df,\n",
    "                                  datasplit_id=train_id,\n",
    "                                  split='train_set',\n",
    "                                  batch_size=4, \n",
    "                                  augment=random_augment, \n",
    "                                  mode='simplified', \n",
    "                                  norm=normalize,\n",
    "                                  shuffle=False)"
   ]
  },
  {
   "cell_type": "code",
   "execution_count": 84,
   "metadata": {},
   "outputs": [
    {
     "name": "stderr",
     "output_type": "stream",
     "text": [
      "DeformImage.ipynb:516: RuntimeWarning: divide by zero encountered in true_divide\n",
      "  \"    gcol = vx.shape[1]  # grid cols\\n\",\n"
     ]
    },
    {
     "data": {
      "image/png": "[encoded data removed]",
      "text/plain": [
       "<matplotlib.figure.Figure at 0x132645278>"
      ]
     },
     "metadata": {},
     "output_type": "display_data"
    }
   ],
   "source": [
    "draw_a_batch(train_batch_2)"
   ]
  },
  {
   "cell_type": "code",
   "execution_count": null,
   "metadata": {},
   "outputs": [],
   "source": []
  }
 ],
 "metadata": {
  "kernelspec": {
   "display_name": "Python 3",
   "language": "python",
   "name": "python3"
  },
  "language_info": {
   "codemirror_mode": {
    "name": "ipython",
    "version": 3
   },
   "file_extension": ".py",
   "mimetype": "text/x-python",
   "name": "python",
   "nbconvert_exporter": "python",
   "pygments_lexer": "ipython3",
   "version": "3.6.4"
  }
 },
 "nbformat": 4,
 "nbformat_minor": 2
}
