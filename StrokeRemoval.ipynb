{
 "cells": [
  {
   "cell_type": "code",
   "execution_count": 4,
   "metadata": {},
   "outputs": [],
   "source": [
    "import os\n",
    "import nbimporter\n",
    "import numpy as np\n",
    "from random import randint"
   ]
  },
  {
   "cell_type": "code",
   "execution_count": 129,
   "metadata": {},
   "outputs": [],
   "source": [
    "def stroke_removal(drawing, percent=0.35, alpha=0.5, beta=0.5):\n",
    "    num = int(len(drawing) * percent)\n",
    "    temp = drawing.copy()\n",
    "    pi = []\n",
    "    for i, stroke in enumerate(drawing):\n",
    "        pi.append(np.exp(alpha * (i+1)) / np.exp(beta * len(stroke[0])))\n",
    "    pi = pi / np.array(pi).sum()\n",
    "    order_to_remove = np.argsort(pi)[::-1]\n",
    "    for i in range(0, num):\n",
    "        del temp[order_to_remove[i]]\n",
    "    return temp"
   ]
  },
  {
   "cell_type": "code",
   "execution_count": null,
   "metadata": {},
   "outputs": [],
   "source": []
  }
 ],
 "metadata": {
  "kernelspec": {
   "display_name": "Python 3",
   "language": "python",
   "name": "python3"
  },
  "language_info": {
   "codemirror_mode": {
    "name": "ipython",
    "version": 3
   },
   "file_extension": ".py",
   "mimetype": "text/x-python",
   "name": "python",
   "nbconvert_exporter": "python",
   "pygments_lexer": "ipython3",
   "version": "3.6.4"
  }
 },
 "nbformat": 4,
 "nbformat_minor": 2
}
