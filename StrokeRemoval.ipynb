{
 "cells": [
  {
   "cell_type": "code",
   "execution_count": 46,
   "metadata": {},
   "outputs": [],
   "source": [
    "import os\n",
    "import cv2\n",
    "import nbimporter\n",
    "import numpy as np\n",
    "from random import randint\n",
    "import matplotlib.pyplot as plt\n",
    "from albumentations import Flip, Rotate\n",
    "\n",
    "% matplotlib inline"
   ]
  },
  {
   "cell_type": "code",
   "execution_count": 3,
   "metadata": {},
   "outputs": [],
   "source": [
    "import pandas as pd\n",
    "airplane = pd.read_csv('/Volumes/JS/QuickDraw/train_simplified/airplane.csv', nrows=100)"
   ]
  },
  {
   "cell_type": "code",
   "execution_count": 43,
   "metadata": {},
   "outputs": [
    {
     "name": "stdout",
     "output_type": "stream",
     "text": [
      "[[[167, 109, 80, 69, 58, 31, 57, 117, 99, 52, 30, 6, 1, 2, 66, 98, 253, 254, 246, 182, 165], [140, 194, 227, 232, 229, 229, 206, 124, 123, 149, 157, 159, 153, 110, 82, 77, 74, 109, 121, 127, 120]], [[207, 207, 210, 221, 238], [74, 103, 114, 128, 135]], [[119, 107, 76, 70, 49, 39, 60, 93], [72, 41, 3, 0, 1, 5, 38, 70]]]\n"
     ]
    }
   ],
   "source": [
    "drawing = airplane['drawing'][:100]\n",
    "drawing = [eval(drawing[i]) for i in range(100)]\n",
    "print(drawing[0])"
   ]
  },
  {
   "cell_type": "code",
   "execution_count": 33,
   "metadata": {},
   "outputs": [],
   "source": [
    "def stroke_removal(drawing, percent=0.5, alpha=0.5, beta=0.5):\n",
    "    num = int(len(drawing) * percent)\n",
    "    pi = []\n",
    "    for i, stroke in enumerate(drawing):\n",
    "        pi.append(np.exp(alpha * (i+1)) / np.exp(beta * len(stroke[0])))\n",
    "    pi = pi / np.array(pi).sum()\n",
    "    order_to_remove = np.argsort(pi)[::-1]\n",
    "    temp = [drawing[j] for j, i in enumerate(drawing) if j in order_to_remove[num:]]\n",
    "    return temp"
   ]
  },
  {
   "cell_type": "code",
   "execution_count": 34,
   "metadata": {},
   "outputs": [],
   "source": [
    "def drawing_to_image(drawing, H=64, W=64):\n",
    "\n",
    "    point=[]\n",
    "    time =[]\n",
    "    \n",
    "    for t,(x,y) in enumerate(drawing):\n",
    "        point.append(np.array((x,y),np.int16).T)\n",
    "        time.append(np.full(len(x),t))\n",
    "\n",
    "    point = np.concatenate(point).astype(np.int16)\n",
    "    time  = np.concatenate(time).astype(np.int32)\n",
    "    \n",
    "    coords = []\n",
    "    \n",
    "    image  = np.full((H,W,3),0,np.uint8)\n",
    "    x_max = point[:,0].max()\n",
    "    x_min = point[:,0].min()\n",
    "    y_max = point[:,1].max()\n",
    "    y_min = point[:,1].min()\n",
    "    w = x_max-x_min\n",
    "    h = y_max-y_min\n",
    "    print(w,h)\n",
    "\n",
    "    s = max(w,h)\n",
    "    norm_point = (point-[x_min,y_min])/s\n",
    "    norm_point = (norm_point-[w/s*0.5,h/s*0.5])*max(W,H)*0.85\n",
    "    norm_point = np.floor(norm_point + [W/2,H/2]).astype(np.int16)\n",
    "\n",
    "    T = time.max()+1\n",
    "    for t in range(T):\n",
    "        p = norm_point[time==t]\n",
    "        x,y = p.T\n",
    "        image[y,x]=255\n",
    "        N = len(p)\n",
    "        for i in range(N-1):\n",
    "            x0,y0 = p[i]\n",
    "            x1,y1 = p[i+1]\n",
    "            coords.append((x0, y0))\n",
    "            cv2.line(image,(x0,y0),(x1,y1),(255,255,255),1,cv2.LINE_AA)\n",
    "        coords.append((x1, y1))\n",
    "\n",
    "    return image, coords"
   ]
  },
  {
   "cell_type": "code",
   "execution_count": 97,
   "metadata": {},
   "outputs": [
    {
     "data": {
      "text/plain": [
       "<matplotlib.image.AxesImage at 0x12bf5e1d0>"
      ]
     },
     "execution_count": 97,
     "metadata": {},
     "output_type": "execute_result"
    },
    {
     "data": {
      "image/png": "[encoded data removed]",
      "text/plain": [
       "<matplotlib.figure.Figure at 0x12be8f4a8>"
      ]
     },
     "metadata": {},
     "output_type": "display_data"
    }
   ],
   "source": [
    "img, _ = drawing_to_image(drawing[3])\n",
    "plt.imshow(img.astype('uint8'))"
   ]
  },
  {
   "cell_type": "code",
   "execution_count": 98,
   "metadata": {},
   "outputs": [],
   "source": [
    "from albumentations import *"
   ]
  },
  {
   "cell_type": "code",
   "execution_count": 99,
   "metadata": {},
   "outputs": [],
   "source": [
    "new_img = GridDistortion(p=1)(image=img)['image']"
   ]
  },
  {
   "cell_type": "code",
   "execution_count": 100,
   "metadata": {},
   "outputs": [
    {
     "data": {
      "text/plain": [
       "<matplotlib.image.AxesImage at 0x12c040160>"
      ]
     },
     "execution_count": 100,
     "metadata": {},
     "output_type": "execute_result"
    },
    {
     "data": {
      "image/png": "[encoded data removed]",
      "text/plain": [
       "<matplotlib.figure.Figure at 0x12bfb2c50>"
      ]
     },
     "metadata": {},
     "output_type": "display_data"
    }
   ],
   "source": [
    "plt.imshow(new_img.astype('uint8'))"
   ]
  },
  {
   "cell_type": "code",
   "execution_count": null,
   "metadata": {},
   "outputs": [],
   "source": []
  }
 ],
 "metadata": {
  "kernelspec": {
   "display_name": "Python 3",
   "language": "python",
   "name": "python3"
  },
  "language_info": {
   "codemirror_mode": {
    "name": "ipython",
    "version": 3
   },
   "file_extension": ".py",
   "mimetype": "text/x-python",
   "name": "python",
   "nbconvert_exporter": "python",
   "pygments_lexer": "ipython3",
   "version": "3.6.4"
  }
 },
 "nbformat": 4,
 "nbformat_minor": 2
}
