{
 "cells": [
  {
   "cell_type": "markdown",
   "metadata": {},
   "source": [
    "TODO:\n",
    "- normalize"
   ]
  },
  {
   "cell_type": "code",
   "execution_count": 2,
   "metadata": {
    "collapsed": true
   },
   "outputs": [],
   "source": [
    "import os\n",
    "import cv2\n",
    "import numpy as np\n",
    "import pandas as pd\n",
    "from timeit import default_timer as timer\n",
    "import matplotlib.pyplot as plt\n",
    "\n",
    "%matplotlib inline"
   ]
  },
  {
   "cell_type": "code",
   "execution_count": 3,
   "metadata": {},
   "outputs": [
    {
     "name": "stderr",
     "output_type": "stream",
     "text": [
      "Using TensorFlow backend.\n"
     ]
    }
   ],
   "source": [
    "from keras.utils import Sequence\n",
    "from sklearn.preprocessing import LabelEncoder\n",
    "from keras.utils.np_utils import to_categorical"
   ]
  },
  {
   "cell_type": "code",
   "execution_count": 3,
   "metadata": {
    "collapsed": true
   },
   "outputs": [],
   "source": [
    "def read_class():\n",
    "    CLASS_NAME = []\n",
    "    with open('./classes.txt', 'r') as class_file:\n",
    "        for i, line in enumerate(class_file):\n",
    "            line = line.rstrip('\\n')\n",
    "            CLASS_NAME.append(line)\n",
    "    return CLASS_NAME"
   ]
  },
  {
   "cell_type": "code",
   "execution_count": 4,
   "metadata": {
    "collapsed": true
   },
   "outputs": [],
   "source": [
    "\"\"\" Hyperparameters defined here \"\"\"\n",
    "CLASS_NAME = read_class()\n",
    "NUM_CLASS = len(CLASS_NAME)\n",
    "TRAIN_DF  = []\n",
    "TEST_DF   = []\n",
    "DATA_PATH = '/Volumes/JS/QuickDraw/'\n",
    "NUM_VALID = 80"
   ]
  },
  {
   "cell_type": "code",
   "execution_count": 6,
   "metadata": {
    "collapsed": true
   },
   "outputs": [],
   "source": [
    "def split_dataset():\n",
    "    all_npy_path = DATA_PATH + 'data_split/train_simplified'\n",
    "    train_npy_path = DATA_PATH + 'data_split/train_set'\n",
    "    valid_npy_path = DATA_PATH + 'data_split/valid_set'\n",
    "\n",
    "    for name in CLASS_NAME:\n",
    "        name = name.replace('_', ' ')\n",
    "        df = pd.read_csv(DATA_PATH + 'train_simplified/%s.csv' % name)\n",
    "        key_id = df['key_id'].values.astype(np.int64)\n",
    "        np.random.shuffle(key_id)\n",
    "\n",
    "        n = len(key_id)\n",
    "        n_valid = NUM_VALID\n",
    "        n_train = n - n_valid\n",
    "\n",
    "        np.save(all_npy_path + '/%s.npy' % name, key_id)\n",
    "        np.save(train_npy_path + '/%s.npy' % name, key_id[:n_train])\n",
    "        np.save(valid_npy_path + '/%s.npy' % name, key_id[n_train:])\n",
    "    print('Finish dataset split.')"
   ]
  },
  {
   "cell_type": "code",
   "execution_count": 3,
   "metadata": {
    "collapsed": true
   },
   "outputs": [],
   "source": [
    "class Struct(object):\n",
    "    def __init__(self, **kwargs):\n",
    "        self.__dict__.update(kwargs)\n",
    "        \n",
    "        \n",
    "def drawing_to_image(drawing, H, W):\n",
    "\n",
    "    point=[]\n",
    "    time =[]\n",
    "    \n",
    "#     coordinates = []\n",
    "    \n",
    "    for t,(x,y) in enumerate(drawing):\n",
    "        point.append(np.array((x,y),np.float32).T)\n",
    "        time.append(np.full(len(x),t))\n",
    "\n",
    "    point = np.concatenate(point).astype(np.float32)\n",
    "    time  = np.concatenate(time).astype(np.int32)\n",
    "\n",
    "    image  = np.full((H,W,3),0,np.uint8)\n",
    "    x_max = point[:,0].max()\n",
    "    x_min = point[:,0].min()\n",
    "    y_max = point[:,1].max()\n",
    "    y_min = point[:,1].min()\n",
    "    w = x_max-x_min\n",
    "    h = y_max-y_min\n",
    "    #print(w,h)\n",
    "\n",
    "    s = max(w,h)\n",
    "    norm_point = (point-[x_min,y_min])/s\n",
    "    norm_point = (norm_point-[w/s*0.5,h/s*0.5])*max(W,H)*0.85\n",
    "    norm_point = np.floor(norm_point + [W/2,H/2]).astype(np.int32)\n",
    "\n",
    "    T = time.max()+1\n",
    "    for t in range(T):\n",
    "        p = norm_point[time==t]\n",
    "        x,y = p.T\n",
    "        image[y,x]=255\n",
    "        N = len(p)\n",
    "        for i in range(N-1):\n",
    "            x0,y0 = p[i]\n",
    "            x1,y1 = p[i+1]\n",
    "            cv2.line(image,(x0,y0),(x1,y1),(255,255,255),1,cv2.LINE_AA)\n",
    "\n",
    "    return image\n",
    "\n",
    "\n",
    "def null_augment(drawing, label, index):\n",
    "#     cache = Struct(drawing = drawing.copy(), label = label, index=index)\n",
    "    image = drawing_to_image(drawing, 64, 64)\n",
    "    return image, label\n",
    "\n",
    "def time_to_str(t, mode='min'):\n",
    "    if mode=='min':\n",
    "        t  = int(t)/60\n",
    "        hr = t//60\n",
    "        min = t%60\n",
    "        return '%2d hr %02d min'%(hr,min)\n",
    "\n",
    "    elif mode=='sec':\n",
    "        t   = int(t)\n",
    "        min = t//60\n",
    "        sec = t%60\n",
    "        return '%2d min %02d sec'%(min,sec)"
   ]
  },
  {
   "cell_type": "code",
   "execution_count": 5,
   "metadata": {
    "collapsed": true
   },
   "outputs": [],
   "source": [
    "def read_full_df(base_path, class_array, train_split_folder='train_set', valid_split_folder='valid_set'):\n",
    "    full_df = []\n",
    "    train_id, valid_id = [], []\n",
    "    num_class = len(class_array)\n",
    "    start = timer()\n",
    "    \n",
    "    # read full df .csv files\n",
    "    for i, name in enumerate(class_array):\n",
    "        print('\\r\\t load df   :  %3d/%3d %24s  %s'%(i, num_class, name,time_to_str((timer() - start), 'sec')),\n",
    "              end='',flush=True)\n",
    "        name = name.replace('_', ' ')\n",
    "\n",
    "        df = pd.read_csv(base_path + 'train_%s/%s.csv'%('simplified', name))\n",
    "        full_df.append(df)\n",
    "    print('\\n')\n",
    "    \n",
    "    # acquire train split set's id\n",
    "    for i, name in enumerate(class_array):\n",
    "        print('\\r\\t load train_set split:  %3d/%3d %24s  %s'%(i, num_class, name, time_to_str((timer() - start),'sec')), \n",
    "              end='', flush=True)\n",
    "        name = name.replace('_', ' ')\n",
    "        df = full_df[i]\n",
    "        key_id = np.load(base_path + 'data_split/%s/%s.npy'%(train_split_folder, name))\n",
    "        label = np.full(len(key_id), i, dtype=np.int64)\n",
    "        drawing_id = df.loc[df['key_id'].isin(key_id)].index.values\n",
    "        train_id.append(np.vstack([label, drawing_id, key_id]).T)\n",
    "    train_id = np.concatenate(train_id)\n",
    "    \n",
    "    # acquire valid split set's id\n",
    "    for i, name in enumerate(class_array):\n",
    "        print('\\r\\t load valid_set split:  %3d/%3d %24s  %s'%(i, num_class, name, time_to_str((timer() - start),'sec')), \n",
    "              end='', flush=True)\n",
    "        name = name.replace('_', ' ')\n",
    "        df = full_df[i]\n",
    "        key_id = np.load(base_path + 'data_split/%s/%s.npy'%(valid_split_folder, name))\n",
    "        label = np.full(len(key_id), i, dtype=np.int64)\n",
    "        drawing_id = df.loc[df['key_id'].isin(key_id)].index.values\n",
    "        valid_id.append(np.vstack([label, drawing_id, key_id]).T)\n",
    "    valid_id = np.concatenate(valid_id)\n",
    "    \n",
    "    return full_df, train_id, valid_id"
   ]
  },
  {
   "cell_type": "code",
   "execution_count": 6,
   "metadata": {
    "collapsed": true
   },
   "outputs": [],
   "source": [
    "def read_example_df(base_path, class_array, train_split_folder='train_set', valid_split_folder='valid_set'):\n",
    "    ex_df = []\n",
    "    angle_id = []\n",
    "    num_class = len(class_array)\n",
    "    start = timer()\n",
    "    \n",
    "    # read an example category 'angle.csv'\n",
    "    name = 'angel'\n",
    "    print('\\r\\t load df   :  %3d/%3d %24s  %s'%(6, num_class, name,time_to_str((timer() - start), 'sec')),\n",
    "          end='',flush=True)\n",
    "\n",
    "    df = pd.read_csv(base_path + 'train_%s/%s.csv'%('simplified', name))\n",
    "    ex_df.append(df)\n",
    "    print('\\n')\n",
    "    \n",
    "    # acquire angle split set's id\n",
    "    print('\\r\\t load train_set split:  %3d/%3d %24s  %s'%(0, num_class, name, time_to_str((timer() - start),'sec')), \n",
    "          end='', flush=True)\n",
    "    df = ex_df[0]\n",
    "    key_id = np.load(base_path + 'data_split/%s/%s.npy'%(train_split_folder, name))\n",
    "    label = np.full(len(key_id), 0, dtype=np.int64)\n",
    "    drawing_id = df.loc[df['key_id'].isin(key_id)].index.values\n",
    "    angle_id.append(np.vstack([label, drawing_id, key_id]).T)\n",
    "\n",
    "    angle_id = np.concatenate(angle_id)\n",
    "    \n",
    "    return ex_df, angle_id"
   ]
  },
  {
   "cell_type": "code",
   "execution_count": 8,
   "metadata": {
    "collapsed": true
   },
   "outputs": [],
   "source": [
    "class ImageBatchGenerator(Sequence):\n",
    "    def __init__(self, \n",
    "                 class_array,\n",
    "                 full_df,\n",
    "                 datasplit_id,\n",
    "                 split='train_set',\n",
    "                 batch_size=128, \n",
    "                 augment=null_augment, \n",
    "                 mode='simplified',\n",
    "                 norm=None,\n",
    "                 shuffle=True):\n",
    "        \"\"\" data: could be 'train' or 'test', the former used to get splited dataset train_set or valid_set, \n",
    "                  the latter used to get the TEST_DF\n",
    "        \"\"\"\n",
    "        assert mode in ['simplified', 'raw']\n",
    "        \n",
    "        self.class_array = class_array\n",
    "        self.full_df = full_df\n",
    "        self.datasplit_id = datasplit_id\n",
    "        self.split = split\n",
    "        self.norm = norm\n",
    "        \n",
    "        self.batch_size = batch_size\n",
    "        self.augment = augment\n",
    "        self.mode = mode \n",
    "        self.H, self.W = 64, 64\n",
    "\n",
    "        num_class = len(class_array)\n",
    "        \n",
    "\n",
    "        ### shuffle                    \n",
    "        if shuffle:\n",
    "            np.random.shuffle(self.datasplit_id)\n",
    "        print('\\n')\n",
    "\n",
    "        \n",
    "    def __str__(self):\n",
    "        N = len(self.datasplit_id)\n",
    "        string = ''\\\n",
    "        + '\\tdata         = %s\\n'%self.split \\\n",
    "        + '\\tmode         = %s\\n'%self.mode \\\n",
    "        + '\\tlen(self.datasplit_id) = %d\\n'%N \\\n",
    "        + '\\n'\n",
    "        return string\n",
    "\n",
    "\n",
    "    def __getitem__(self, idx):\n",
    "        if self.split != 'test_set':\n",
    "            l_bound = idx * self.batch_size\n",
    "            r_bound = (idx + 1) * self.batch_size\n",
    "            if r_bound > len(self.datasplit_id):\n",
    "                r_bound = len(self.datasplit_id)\n",
    "                l_bound = r_bound - self.batch_size\n",
    "            instance_count = 0\n",
    "\n",
    "            x_batch = np.zeros((r_bound-l_bound, self.H, self.W, 3))\n",
    "            y_batch = np.zeros((r_bound-l_bound, 340), dtype='uint32')\n",
    "\n",
    "            for instance in self.datasplit_id[l_bound:r_bound]:\n",
    "                label, drawing_id, key_id = instance\n",
    "                drawing = self.full_df[label]['drawing'][drawing_id]\n",
    "                drawing = eval(drawing)\n",
    "\n",
    "                image, label = self.augment(drawing, label, idx)\n",
    "\n",
    "                x_batch[instance_count] = image\n",
    "                y_batch[instance_count, int(label)] = 1\n",
    "\n",
    "                if self.norm != None:\n",
    "                    x_batch[instance_count] = self.norm(image)\n",
    "\n",
    "                instance_count += 1\n",
    "        else:\n",
    "            pass\n",
    "\n",
    "        return [x_batch, y_batch]\n",
    "\n",
    "        if self.data == 'test':\n",
    "            label=None\n",
    "            drawing = self.df['drawing'][idx]\n",
    "            drawing = eval(drawing)\n",
    "\n",
    "        return self.augment(drawing, label, idx)\n",
    "\n",
    "\n",
    "    def __len__(self):\n",
    "        return int(np.ceil(len(self.datasplit_id) / self.batch_size))"
   ]
  },
  {
   "cell_type": "code",
   "execution_count": null,
   "metadata": {},
   "outputs": [
    {
     "name": "stdout",
     "output_type": "stream",
     "text": [
      "\t load df   :  339/340                   zigzag  17 min 08 sec\n",
      "\n",
      "\t load train_set split:    0/340         The_Eiffel_Tower  17 min 09 sec"
     ]
    }
   ],
   "source": [
    "full_df, train_id, valid_id = read_full_df(DATA_PATH, CLASS_NAME)\n",
    "# ex_df, angle_id = read_example_df(DATA_PATH, CLASS_NAME)"
   ]
  },
  {
   "cell_type": "code",
   "execution_count": null,
   "metadata": {
    "collapsed": true
   },
   "outputs": [],
   "source": [
    "print(train_id.shape)"
   ]
  },
  {
   "cell_type": "code",
   "execution_count": null,
   "metadata": {
    "collapsed": true,
    "scrolled": true
   },
   "outputs": [],
   "source": [
    "def normalize(image):\n",
    "    return image / 255.\n",
    "\n",
    "\n",
    "train_batch = ImageBatchGenerator(class_array=CLASS_NAME,\n",
    "                                  full_df=full_df,\n",
    "                                  datasplit_id=train_id,\n",
    "                                  split='train_set',\n",
    "                                  batch_size=128, \n",
    "                                  augment=null_augment, \n",
    "                                  mode='simplified', \n",
    "                                  norm=normalize,\n",
    "                                  shuffle=True)"
   ]
  },
  {
   "cell_type": "code",
   "execution_count": 25,
   "metadata": {},
   "outputs": [
    {
     "data": {
      "text/plain": [
       "array([1, 0, 0, 0, 0, 0, 0, 0, 0, 0, 0, 0, 0, 0, 0, 0, 0, 0, 0, 0, 0, 0,\n",
       "       0, 0, 0, 0, 0, 0, 0, 0, 0, 0, 0, 0, 0, 0, 0, 0, 0, 0, 0, 0, 0, 0,\n",
       "       0, 0, 0, 0, 0, 0, 0, 0, 0, 0, 0, 0, 0, 0, 0, 0, 0, 0, 0, 0, 0, 0,\n",
       "       0, 0, 0, 0, 0, 0, 0, 0, 0, 0, 0, 0, 0, 0, 0, 0, 0, 0, 0, 0, 0, 0,\n",
       "       0, 0, 0, 0, 0, 0, 0, 0, 0, 0, 0, 0, 0, 0, 0, 0, 0, 0, 0, 0, 0, 0,\n",
       "       0, 0, 0, 0, 0, 0, 0, 0, 0, 0, 0, 0, 0, 0, 0, 0, 0, 0, 0, 0, 0, 0,\n",
       "       0, 0, 0, 0, 0, 0, 0, 0, 0, 0, 0, 0, 0, 0, 0, 0, 0, 0, 0, 0, 0, 0,\n",
       "       0, 0, 0, 0, 0, 0, 0, 0, 0, 0, 0, 0, 0, 0, 0, 0, 0, 0, 0, 0, 0, 0,\n",
       "       0, 0, 0, 0, 0, 0, 0, 0, 0, 0, 0, 0, 0, 0, 0, 0, 0, 0, 0, 0, 0, 0,\n",
       "       0, 0, 0, 0, 0, 0, 0, 0, 0, 0, 0, 0, 0, 0, 0, 0, 0, 0, 0, 0, 0, 0,\n",
       "       0, 0, 0, 0, 0, 0, 0, 0, 0, 0, 0, 0, 0, 0, 0, 0, 0, 0, 0, 0, 0, 0,\n",
       "       0, 0, 0, 0, 0, 0, 0, 0, 0, 0, 0, 0, 0, 0, 0, 0, 0, 0, 0, 0, 0, 0,\n",
       "       0, 0, 0, 0, 0, 0, 0, 0, 0, 0, 0, 0, 0, 0, 0, 0, 0, 0, 0, 0, 0, 0,\n",
       "       0, 0, 0, 0, 0, 0, 0, 0, 0, 0, 0, 0, 0, 0, 0, 0, 0, 0, 0, 0, 0, 0,\n",
       "       0, 0, 0, 0, 0, 0, 0, 0, 0, 0, 0, 0, 0, 0, 0, 0, 0, 0, 0, 0, 0, 0,\n",
       "       0, 0, 0, 0, 0, 0, 0, 0, 0, 0], dtype=uint32)"
      ]
     },
     "execution_count": 25,
     "metadata": {},
     "output_type": "execute_result"
    }
   ],
   "source": [
    "trainset[0][1][0]"
   ]
  },
  {
   "cell_type": "code",
   "execution_count": 39,
   "metadata": {
    "collapsed": true
   },
   "outputs": [],
   "source": [
    "def draw_a_batch(batch_size=16):\n",
    "    fig, m_axs = plt.subplots(4, 4, figsize=(16, 16))\n",
    "\n",
    "    for i, ax in enumerate(m_axs.flatten()):\n",
    "        img = trainset[0][0][i]\n",
    "        ax.imshow(img.astype('float'))\n",
    "        ax.set_title(CLASS_NAME[np.squeeze(np.where(trainset[0][1][0] == 1))])"
   ]
  },
  {
   "cell_type": "code",
   "execution_count": 40,
   "metadata": {},
   "outputs": [
    {
     "data": {
      "image/png": "[encoded data removed]",
      "text/plain": [
       "<matplotlib.figure.Figure at 0x141fbc6d8>"
      ]
     },
     "metadata": {},
     "output_type": "display_data"
    }
   ],
   "source": [
    "draw_a_batch()"
   ]
  },
  {
   "cell_type": "code",
   "execution_count": 12,
   "metadata": {
    "collapsed": true
   },
   "outputs": [],
   "source": [
    "def read_test_df(): \n",
    "    test_df = pd.read_csv('./test_%s.csv'%('simplified'))\n",
    "    test_id = np.arange(0,len(test_df))\n",
    "\n",
    "    return test_id"
   ]
  },
  {
   "cell_type": "code",
   "execution_count": 13,
   "metadata": {
    "collapsed": true
   },
   "outputs": [],
   "source": [
    "test_id = read_test_df()"
   ]
  },
  {
   "cell_type": "code",
   "execution_count": 14,
   "metadata": {},
   "outputs": [
    {
     "data": {
      "text/plain": [
       "112199"
      ]
     },
     "execution_count": 14,
     "metadata": {},
     "output_type": "execute_result"
    }
   ],
   "source": [
    "len(test_id)"
   ]
  },
  {
   "cell_type": "code",
   "execution_count": null,
   "metadata": {
    "collapsed": true
   },
   "outputs": [],
   "source": []
  }
 ],
 "metadata": {
  "kernelspec": {
   "display_name": "Python 3",
   "language": "python",
   "name": "python3"
  },
  "language_info": {
   "codemirror_mode": {
    "name": "ipython",
    "version": 3
   },
   "file_extension": ".py",
   "mimetype": "text/x-python",
   "name": "python",
   "nbconvert_exporter": "python",
   "pygments_lexer": "ipython3",
   "version": "3.6.4"
  }
 },
 "nbformat": 4,
 "nbformat_minor": 2
}
