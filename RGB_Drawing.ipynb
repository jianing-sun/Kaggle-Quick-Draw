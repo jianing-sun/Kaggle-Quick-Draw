{
 "cells": [
  {
   "cell_type": "code",
   "execution_count": 2,
   "metadata": {},
   "outputs": [
    {
     "name": "stdout",
     "output_type": "stream",
     "text": [
      "Importing Jupyter notebook from DataParserforCNN.ipynb\n"
     ]
    },
    {
     "name": "stderr",
     "output_type": "stream",
     "text": [
      "Using TensorFlow backend.\n"
     ]
    }
   ],
   "source": [
    "import numpy as np\n",
    "import nbimporter\n",
    "import pandas as pd\n",
    "import matplotlib.pyplot as plt\n",
    "from DataParserforCNN import read_class\n",
    "import cv2\n",
    "\n",
    "%matplotlib inline"
   ]
  },
  {
   "cell_type": "code",
   "execution_count": 14,
   "metadata": {},
   "outputs": [],
   "source": [
    "class_array = read_class()\n",
    "base_path = '/Volumes/JS/QuickDraw/train_simplified/'\n",
    "airplane = pd.read_csv(base_path + 'airplane.csv', nrows=1000)"
   ]
  },
  {
   "cell_type": "code",
   "execution_count": 36,
   "metadata": {},
   "outputs": [],
   "source": [
    "color_list = [(148,0,211), (112,0,171), (75,0,130), (38,0,193), (0,0,255),\n",
    "              (0,128,128), (0,255,0), (128,255,0), (255,255,0), (255,191,0),\n",
    "              (255,127,0), (255,191,0), (255,0,0)]"
   ]
  },
  {
   "cell_type": "code",
   "execution_count": 45,
   "metadata": {},
   "outputs": [
    {
     "ename": "IndexError",
     "evalue": "list index out of range",
     "output_type": "error",
     "traceback": [
      "\u001b[0;31m---------------------------------------------------------------------------\u001b[0m",
      "\u001b[0;31mIndexError\u001b[0m                                Traceback (most recent call last)",
      "\u001b[0;32m<ipython-input-45-55d546b2a0a0>\u001b[0m in \u001b[0;36m<module>\u001b[0;34m()\u001b[0m\n\u001b[0;32m----> 1\u001b[0;31m \u001b[0mcolor_list\u001b[0m\u001b[0;34m[\u001b[0m\u001b[0;36m13\u001b[0m\u001b[0;34m]\u001b[0m\u001b[0;34m\u001b[0m\u001b[0m\n\u001b[0m",
      "\u001b[0;31mIndexError\u001b[0m: list index out of range"
     ]
    }
   ],
   "source": [
    "color_list[13]"
   ]
  },
  {
   "cell_type": "code",
   "execution_count": 46,
   "metadata": {},
   "outputs": [],
   "source": [
    "def drawing_to_image(drawing, H, W):\n",
    "\n",
    "    point=[]\n",
    "    time =[]\n",
    "    \n",
    "#     coordinates = []\n",
    "    \n",
    "    for t,(x,y) in enumerate(drawing):\n",
    "        point.append(np.array((x,y),np.float32).T)\n",
    "        time.append(np.full(len(x),t))\n",
    "\n",
    "    point = np.concatenate(point).astype(np.float32)\n",
    "    time  = np.concatenate(time).astype(np.int32)\n",
    "\n",
    "    image  = np.full((H,W,3),0,np.uint8)\n",
    "    x_max = point[:,0].max()\n",
    "    x_min = point[:,0].min()\n",
    "    y_max = point[:,1].max()\n",
    "    y_min = point[:,1].min()\n",
    "    w = x_max-x_min\n",
    "    h = y_max-y_min\n",
    "    #print(w,h)\n",
    "\n",
    "    s = max(w,h)\n",
    "    norm_point = (point-[x_min,y_min])/s\n",
    "    norm_point = (norm_point-[w/s*0.5,h/s*0.5])*max(W,H)*0.85\n",
    "    norm_point = np.floor(norm_point + [W/2,H/2]).astype(np.int32)\n",
    "\n",
    "    T = time.max()+1\n",
    "    for t in range(T):\n",
    "        print(t)\n",
    "        if t < len(color_list):\n",
    "            cur_color = color_list[t]\n",
    "        else:\n",
    "            cur_color = color_list[-1]\n",
    "        p = norm_point[time==t]\n",
    "        x,y = p.T\n",
    "        image[y,x]=255\n",
    "        N = len(p)\n",
    "        for i in range(N-1):\n",
    "            x0,y0 = p[i]\n",
    "            x1,y1 = p[i+1]\n",
    "            cv2.line(image,(x0,y0),(x1,y1),cur_color,1,cv2.LINE_AA)\n",
    "\n",
    "    return image"
   ]
  },
  {
   "cell_type": "code",
   "execution_count": 47,
   "metadata": {},
   "outputs": [
    {
     "name": "stdout",
     "output_type": "stream",
     "text": [
      "0\n",
      "1\n",
      "2\n",
      "3\n",
      "4\n",
      "5\n",
      "6\n",
      "7\n",
      "8\n",
      "9\n",
      "10\n",
      "11\n",
      "12\n",
      "13\n",
      "14\n"
     ]
    }
   ],
   "source": [
    "drawings = airplane['drawing'][40]\n",
    "drawings = eval(drawings)\n",
    "imgs = drawing_to_image(drawings, 64, 64)"
   ]
  },
  {
   "cell_type": "code",
   "execution_count": 51,
   "metadata": {},
   "outputs": [
    {
     "data": {
      "text/plain": [
       "<matplotlib.image.AxesImage at 0x131df67f0>"
      ]
     },
     "execution_count": 51,
     "metadata": {},
     "output_type": "execute_result"
    },
    {
     "data": {
      "image/png": "[encoded data removed]",
      "text/plain": [
       "<matplotlib.figure.Figure at 0x131d59cf8>"
      ]
     },
     "metadata": {},
     "output_type": "display_data"
    }
   ],
   "source": [
    "imgs= imgs / 255.\n",
    "plt.imshow(imgs.astype('float'))"
   ]
  },
  {
   "cell_type": "code",
   "execution_count": 50,
   "metadata": {
    "scrolled": true
   },
   "outputs": [
    {
     "name": "stdout",
     "output_type": "stream",
     "text": [
      "[[[91, 83, 77, 70, 71, 82, 97, 116, 128, 161, 224, 248, 255, 252, 246, 183, 173, 185, 213, 212, 204, 192, 175, 158, 143, 131, 103, 44, 6, 2], [103, 118, 140, 195, 215, 207, 190, 149, 137, 134, 146, 142, 127, 113, 105, 81, 73, 53, 23, 10, 1, 1, 9, 24, 45, 52, 53, 40, 50, 55]], [[86, 45, 31, 6, 1], [111, 102, 93, 61, 60]], [[173, 173], [117, 117]], [[148, 148], [103, 102]], [[193, 193], [120, 120]], [[227, 216], [120, 122]], [[187, 186], [109, 109]], [[116, 114], [103, 103]], [[60, 59], [83, 83]], [[21, 21], [71, 71]], [[92, 69, 52, 31, 12, 0], [127, 122, 115, 98, 76, 66]], [[124, 105, 80, 0], [62, 54, 50, 47]], [[19, 17], [61, 57]], [[113, 201, 203, 201, 183], [55, 2, 6, 24, 85]], [[82, 78, 97], [119, 213, 186]]]\n"
     ]
    }
   ],
   "source": [
    "print(drawings)"
   ]
  },
  {
   "cell_type": "code",
   "execution_count": null,
   "metadata": {},
   "outputs": [],
   "source": []
  }
 ],
 "metadata": {
  "kernelspec": {
   "display_name": "Python 3",
   "language": "python",
   "name": "python3"
  },
  "language_info": {
   "codemirror_mode": {
    "name": "ipython",
    "version": 3
   },
   "file_extension": ".py",
   "mimetype": "text/x-python",
   "name": "python",
   "nbconvert_exporter": "python",
   "pygments_lexer": "ipython3",
   "version": "3.6.4"
  }
 },
 "nbformat": 4,
 "nbformat_minor": 2
}
